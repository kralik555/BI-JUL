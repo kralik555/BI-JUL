{
 "cells": [
  {
   "cell_type": "markdown",
   "id": "a4e74308-e08c-4d6a-9a88-b5dc87bd4a5e",
   "metadata": {},
   "source": [
    "# 4. Domácí úkol: Astronomická data\n",
    "\n",
    "V tomto úkolu budeme pracovat s astronomickou [databází HYG (Hypparcos, Yale, Glies)](https://www.astronexus.com/hyg) sdružující vybrané informace z vybraných zdrojů o vybraných hvězdách.\n",
    "\n",
    "Komprimovaný CSV soubor s daty můžete stáhnout [zde](https://www.astronexus.com/downloads/catalogs/athyg_v24.csv.gz).\n",
    "\n",
    "Jednotlivé úkoly, které je potřeba v rámci tohoto domácího úkolu splnit, jsou popsány níže.\n",
    "K řešení můžete využít více buněk, je vhodné své řešení textově stručně okomentovat."
   ]
  },
  {
   "cell_type": "markdown",
   "id": "90558960-35c6-45fa-a947-5bf81a41488a",
   "metadata": {},
   "source": [
    "## 4.1 Načtení dat\n",
    "\n",
    "**a.** Stáhněte si [soubor s databází](https://www.astronexus.com/downloads/catalogs/athyg_v24.csv.gz) zmíněný výše a rozbalte ho do adresáře `data`, který je přidán do `.gitignore`, abychom **nepushovali stovky megabyte do repozitáře**!\n",
    "\n",
    "**b.** Načtěte obsah souboru do DataFrame z balíčku DataFrames."
   ]
  },
  {
   "cell_type": "code",
   "execution_count": null,
   "id": "361f24b6-90f5-4073-9bd9-abaa91d9aee1",
   "metadata": {},
   "outputs": [],
   "source": [
    "# případně více buněk, postup komentujte v textových buňkách"
   ]
  },
  {
   "cell_type": "markdown",
   "id": "61ef6953-3a4f-46ed-91f8-12bcdf721c57",
   "metadata": {},
   "source": [
    "**c.** Kolik záznamů (hvězd) je v databázi?"
   ]
  },
  {
   "cell_type": "code",
   "execution_count": null,
   "id": "bc2893dd-9591-4bd6-9301-a0368e045bd0",
   "metadata": {},
   "outputs": [],
   "source": [
    "# případně více buněk, postup komentujte v textových buňkách"
   ]
  },
  {
   "cell_type": "markdown",
   "id": "ee402544-61a5-4b99-95ec-0f869990f652",
   "metadata": {},
   "source": [
    "## 4.2 Zajímavé hvězdy\n",
    "\n",
    "**a.** Která hvězda je nejbližší (vzdálenost je uložena ve sloupci `dist` v jednotkách [parsec](https://en.wikipedia.org/wiki/Parsec)). Vyhledejte pět nejbližších hvězd a uveďte jejich vzdálenost od Slunce ve [světelných letech](https://en.wikipedia.org/wiki/Light-year). Vypište i jejich jméno (sloupec `proper` v případě pojmenovaných hvězd) a vypište v jakém se nachází souhvězdí (sloupec `con`)."
   ]
  },
  {
   "cell_type": "code",
   "execution_count": null,
   "id": "73dbb03a-e01a-457d-811b-409fd0765d87",
   "metadata": {},
   "outputs": [],
   "source": [
    "# případně více buněk, postup komentujte v textových buňkách"
   ]
  },
  {
   "cell_type": "markdown",
   "id": "382dabf6-e039-4645-a002-6feae5bab9ba",
   "metadata": {},
   "source": [
    "**b.** Vypište vzdálenosti pěti nejvzdálenějších hvězd. Uveďte jejich vzdálenosti od slunce ve světelných letech a v jakých souhvězdích se nachází."
   ]
  },
  {
   "cell_type": "code",
   "execution_count": null,
   "id": "21d2f95a-0889-4a39-a338-e2d92b47f867",
   "metadata": {},
   "outputs": [],
   "source": [
    "# případně více buněk, postup komentujte v textových buňkách"
   ]
  },
  {
   "cell_type": "markdown",
   "id": "a89675b9-5cb5-4afd-8b7b-e7e80f551a9c",
   "metadata": {},
   "source": [
    "**c.** Nalezněte pět nejjasnějších hvězd dle jasnosti vnímané pozorovatelem na Zemi (tj. hvězdy s největší magnitudou, sloupec `mag`). Vypište opět jejich jména a souhvězdí, do kterých patří."
   ]
  },
  {
   "cell_type": "code",
   "execution_count": null,
   "id": "1137c7e4-60ed-4769-a18d-5cfe0b5784ae",
   "metadata": {},
   "outputs": [],
   "source": [
    "# případně více buněk, postup komentujte v textových buňkách"
   ]
  },
  {
   "cell_type": "markdown",
   "id": "a17f8830-930e-4f20-beb4-05719cfe9168",
   "metadata": {},
   "source": [
    "## 4.3 Nejjasnější souhvězdí\n",
    "\n",
    "**a.** Kolik souhvězdí (sloupec `col`) je v databázi celkem uvedeno?"
   ]
  },
  {
   "cell_type": "code",
   "execution_count": null,
   "id": "84a1862a-54c5-4919-b7e1-908da64b5e8b",
   "metadata": {},
   "outputs": [],
   "source": [
    "# případně více buněk, postup komentujte v textových buňkách"
   ]
  },
  {
   "cell_type": "markdown",
   "id": "c96d0318-7f6d-4106-a26f-7c375a58df8d",
   "metadata": {},
   "source": [
    "**b.** Nalezněte pět souhvězdí, která jsou nejjasnější (při pohledu ze Slunce) podle následujícího kritéria: pro každé souhvězdí spočteme \"naší jasnost\", která je dána _mediánem_ jasností _deseti_ nejjasnějších hvězd daného souhvězdí (magnituda, `mag`)."
   ]
  },
  {
   "cell_type": "code",
   "execution_count": null,
   "id": "171a6d0e-1bd5-413d-9bcb-a13e861d4f03",
   "metadata": {},
   "outputs": [],
   "source": [
    "# případně více buněk, postup komentujte v textových buňkách"
   ]
  },
  {
   "cell_type": "markdown",
   "id": "4c366ad3-1196-4e69-8c1d-2019c59bae87",
   "metadata": {},
   "source": [
    "## 4.4 Hertzsprungův–Russelllův diagram\n",
    "\n",
    "**a.** K hvězdám, které mají uvedenou spektrální klasifikaci (sloupec `spect`, hodnota není `missing`) přídejte do nového sloupce `temp` jejich přibližnou povrchovou teplotu napočtenou podle Ballesterosova vzorce\n",
    "\n",
    "$$ T(\\mathrm{ci}) = 4600 \\, K \\left( \\frac{1}{0.92\\mathrm{ci} + 1.7} + \\frac{1}{0.92\\mathrm{ci} + 0.62} \\right), $$\n",
    "\n",
    "kde $\\mathrm{ci}$ je [barevný index hvězdy](https://en.wikipedia.org/wiki/Color_index) uvedený ve sloupci `ci`."
   ]
  },
  {
   "cell_type": "code",
   "execution_count": null,
   "id": "b9eb0911-c5f7-4efd-99a3-edbc2db0cc0a",
   "metadata": {},
   "outputs": [],
   "source": [
    "# případně více buněk, postup komentujte v textových buňkách"
   ]
  },
  {
   "cell_type": "markdown",
   "id": "433007e2-28b4-42ae-9804-e534856c893b",
   "metadata": {},
   "source": [
    "**a.** Pokuste se nakreslit [Hertzprungův-Russelův diagram](https://en.wikipedia.org/wiki/Hertzsprung%E2%80%93Russell_diagram) pro hvězdy, které mají uvedenou spektrální klasifikaci (sloupec `spect`) a jejichž povrchová teplota napočtená v předchozím bodě je mezi $0\\,K$ a $25\\,000\\,K$.\n",
    "\n",
    "Tento diagram má na vodorovné ose teplotu hvězdy (náš nový sloupec `temp`) a na svislé je absolutní magnitudu (sloupec `absmag`). Každá hvězda v tomto diagramu odpovídá jednomu bodu.\n",
    "\n",
    "**Poznámka**: Jako ideální nástroj se nabízí si _scatter plot_ nebo _2D histogram_. Obrázek nutně nebude vypadat tak pěkně, jako na wikipedii, ale je dobré vykreslovač potrápit (například vhodně zvolit velikost bodu, nebo přihrádky v histogramu, případně upravit rozsah osa asoustředit se tak na zajímavou oblast)."
   ]
  },
  {
   "cell_type": "code",
   "execution_count": null,
   "id": "2bd564c4-64d3-48b0-a13c-183c87707ca1",
   "metadata": {},
   "outputs": [],
   "source": [
    "# případně více buněk, postup komentujte v textových buňkách"
   ]
  }
 ],
 "metadata": {
  "kernelspec": {
   "display_name": "Julia 1.9.3",
   "language": "julia",
   "name": "julia-1.9"
  },
  "language_info": {
   "file_extension": ".jl",
   "mimetype": "application/julia",
   "name": "julia",
   "version": "1.9.4"
  }
 },
 "nbformat": 4,
 "nbformat_minor": 5
}
