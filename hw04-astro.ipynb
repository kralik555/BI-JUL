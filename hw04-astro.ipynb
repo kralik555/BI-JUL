{
 "cells": [
  {
   "cell_type": "markdown",
   "id": "a4e74308-e08c-4d6a-9a88-b5dc87bd4a5e",
   "metadata": {},
   "source": [
    "# 4. Domácí úkol: Astronomická data\n",
    "\n",
    "V tomto úkolu budeme pracovat s astronomickou [databází HYG (Hypparcos, Yale, Glies)](https://www.astronexus.com/hyg) sdružující vybrané informace z vybraných zdrojů o vybraných hvězdách.\n",
    "\n",
    "Komprimovaný CSV soubor s daty můžete stáhnout [zde](https://www.astronexus.com/downloads/catalogs/athyg_v24.csv.gz).\n",
    "\n",
    "Jednotlivé úkoly, které je potřeba v rámci tohoto domácího úkolu splnit, jsou popsány níže.\n",
    "K řešení můžete využít více buněk, je vhodné své řešení textově stručně okomentovat."
   ]
  },
  {
   "cell_type": "markdown",
   "id": "90558960-35c6-45fa-a947-5bf81a41488a",
   "metadata": {},
   "source": [
    "## 4.1 Načtení dat\n",
    "\n",
    "**a.** Stáhněte si [soubor s databází](https://www.astronexus.com/downloads/catalogs/athyg_v24.csv.gz) zmíněný výše a rozbalte ho do adresáře `data`, který je přidán do `.gitignore`, abychom **nepushovali stovky megabyte do repozitáře**!\n",
    "\n",
    "**b.** Načtěte obsah souboru do DataFrame z balíčku DataFrames."
   ]
  },
  {
   "cell_type": "markdown",
   "id": "e891ee95-5ca5-4f51-8a0d-d55d6cb6363e",
   "metadata": {},
   "source": [
    "Soubor načteme pomocí knihovny CSV, kterou načteme spolu s knihovnou DataFrames"
   ]
  },
  {
   "cell_type": "code",
   "execution_count": 45,
   "id": "361f24b6-90f5-4073-9bd9-abaa91d9aee1",
   "metadata": {},
   "outputs": [],
   "source": [
    "using DataFrames\n",
    "using CSV\n",
    "using Statistics\n",
    "using PyPlot"
   ]
  },
  {
   "cell_type": "code",
   "execution_count": 2,
   "id": "df87485b-21cd-49a4-b7ac-933d98793c75",
   "metadata": {
    "scrolled": true
   },
   "outputs": [
    {
     "data": {
      "text/html": [
       "<div><div style = \"float: left;\"><span>2552165×34 DataFrame</span></div><div style = \"float: right;\"><span style = \"font-style: italic;\">2552140 rows omitted</span></div><div style = \"clear: both;\"></div></div><div class = \"data-frame\" style = \"overflow-x: scroll;\"><table class = \"data-frame\" style = \"margin-bottom: 6px;\"><thead><tr class = \"header\"><th class = \"rowNumber\" style = \"font-weight: bold; text-align: right;\">Row</th><th style = \"text-align: left;\">id</th><th style = \"text-align: left;\">tyc</th><th style = \"text-align: left;\">gaia</th><th style = \"text-align: left;\">hyg</th><th style = \"text-align: left;\">hip</th><th style = \"text-align: left;\">hd</th><th style = \"text-align: left;\">hr</th><th style = \"text-align: left;\">gl</th><th style = \"text-align: left;\">bayer</th><th style = \"text-align: left;\">flam</th><th style = \"text-align: left;\">con</th><th style = \"text-align: left;\">proper</th><th style = \"text-align: left;\">ra</th><th style = \"text-align: left;\">dec</th><th style = \"text-align: left;\">pos_src</th><th style = \"text-align: left;\">dist</th><th style = \"text-align: left;\">x0</th><th style = \"text-align: left;\">y0</th><th style = \"text-align: left;\">z0</th><th style = \"text-align: left;\">dist_src</th><th style = \"text-align: left;\">mag</th><th style = \"text-align: left;\">absmag</th><th style = \"text-align: left;\">ci</th><th style = \"text-align: left;\">mag_src</th><th style = \"text-align: left;\">rv</th><th style = \"text-align: left;\">rv_src</th><th style = \"text-align: left;\">pm_ra</th><th style = \"text-align: left;\">pm_dec</th><th style = \"text-align: left;\">pm_src</th><th style = \"text-align: left;\">vx</th><th style = \"text-align: left;\">vy</th><th style = \"text-align: left;\">vz</th><th style = \"text-align: left;\">spect</th><th style = \"text-align: left;\">spect_src</th></tr><tr class = \"subheader headerLastRow\"><th class = \"rowNumber\" style = \"font-weight: bold; text-align: right;\"></th><th title = \"Int64\" style = \"text-align: left;\">Int64</th><th title = \"Union{Missing, String15}\" style = \"text-align: left;\">String15?</th><th title = \"Union{Missing, Int64}\" style = \"text-align: left;\">Int64?</th><th title = \"Union{Missing, Int64}\" style = \"text-align: left;\">Int64?</th><th title = \"Union{Missing, Int64}\" style = \"text-align: left;\">Int64?</th><th title = \"Union{Missing, Int64}\" style = \"text-align: left;\">Int64?</th><th title = \"Union{Missing, Int64}\" style = \"text-align: left;\">Int64?</th><th title = \"Union{Missing, String15}\" style = \"text-align: left;\">String15?</th><th title = \"Union{Missing, String7}\" style = \"text-align: left;\">String7?</th><th title = \"Union{Missing, Int64}\" style = \"text-align: left;\">Int64?</th><th title = \"Union{Missing, String3}\" style = \"text-align: left;\">String3?</th><th title = \"Union{Missing, String31}\" style = \"text-align: left;\">String31?</th><th title = \"Float64\" style = \"text-align: left;\">Float64</th><th title = \"Float64\" style = \"text-align: left;\">Float64</th><th title = \"String7\" style = \"text-align: left;\">String7</th><th title = \"Union{Missing, Float64}\" style = \"text-align: left;\">Float64?</th><th title = \"Union{Missing, Float64}\" style = \"text-align: left;\">Float64?</th><th title = \"Union{Missing, Float64}\" style = \"text-align: left;\">Float64?</th><th title = \"Union{Missing, Float64}\" style = \"text-align: left;\">Float64?</th><th title = \"String7\" style = \"text-align: left;\">String7</th><th title = \"Float64\" style = \"text-align: left;\">Float64</th><th title = \"Union{Missing, Float64}\" style = \"text-align: left;\">Float64?</th><th title = \"Union{Missing, Float64}\" style = \"text-align: left;\">Float64?</th><th title = \"String7\" style = \"text-align: left;\">String7</th><th title = \"Union{Missing, Float64}\" style = \"text-align: left;\">Float64?</th><th title = \"String7\" style = \"text-align: left;\">String7</th><th title = \"Union{Missing, Float64}\" style = \"text-align: left;\">Float64?</th><th title = \"Union{Missing, Float64}\" style = \"text-align: left;\">Float64?</th><th title = \"String7\" style = \"text-align: left;\">String7</th><th title = \"Union{Missing, Float64}\" style = \"text-align: left;\">Float64?</th><th title = \"Union{Missing, Float64}\" style = \"text-align: left;\">Float64?</th><th title = \"Union{Missing, Float64}\" style = \"text-align: left;\">Float64?</th><th title = \"Union{Missing, String31}\" style = \"text-align: left;\">String31?</th><th title = \"Union{Missing, String7}\" style = \"text-align: left;\">String7?</th></tr></thead><tbody><tr><td class = \"rowNumber\" style = \"font-weight: bold; text-align: right;\">1</td><td style = \"text-align: right;\">1</td><td style = \"font-style: italic; text-align: left;\">missing</td><td style = \"font-style: italic; text-align: right;\">missing</td><td style = \"text-align: right;\">0</td><td style = \"font-style: italic; text-align: right;\">missing</td><td style = \"font-style: italic; text-align: right;\">missing</td><td style = \"font-style: italic; text-align: right;\">missing</td><td style = \"font-style: italic; text-align: left;\">missing</td><td style = \"font-style: italic; text-align: left;\">missing</td><td style = \"font-style: italic; text-align: right;\">missing</td><td style = \"font-style: italic; text-align: left;\">missing</td><td style = \"text-align: left;\">Sol</td><td style = \"text-align: right;\">0.0</td><td style = \"text-align: right;\">0.0</td><td style = \"text-align: left;\">OTHER</td><td style = \"text-align: right;\">0.0</td><td style = \"text-align: right;\">5.0e-6</td><td style = \"text-align: right;\">0.0</td><td style = \"text-align: right;\">0.0</td><td style = \"text-align: left;\">OTHER</td><td style = \"text-align: right;\">-26.7</td><td style = \"text-align: right;\">4.85</td><td style = \"text-align: right;\">0.656</td><td style = \"text-align: left;\">OTHER</td><td style = \"font-style: italic; text-align: right;\">missing</td><td style = \"text-align: left;\">OTHER</td><td style = \"font-style: italic; text-align: right;\">missing</td><td style = \"font-style: italic; text-align: right;\">missing</td><td style = \"text-align: left;\">OTHER</td><td style = \"font-style: italic; text-align: right;\">missing</td><td style = \"font-style: italic; text-align: right;\">missing</td><td style = \"font-style: italic; text-align: right;\">missing</td><td style = \"text-align: left;\">G2 V</td><td style = \"text-align: left;\">OTHER</td></tr><tr><td class = \"rowNumber\" style = \"font-weight: bold; text-align: right;\">2</td><td style = \"text-align: right;\">2</td><td style = \"text-align: left;\">4669-731-1</td><td style = \"text-align: right;\">2443095153084654208</td><td style = \"font-style: italic; text-align: right;\">missing</td><td style = \"font-style: italic; text-align: right;\">missing</td><td style = \"text-align: right;\">224701</td><td style = \"font-style: italic; text-align: right;\">missing</td><td style = \"font-style: italic; text-align: left;\">missing</td><td style = \"font-style: italic; text-align: left;\">missing</td><td style = \"font-style: italic; text-align: right;\">missing</td><td style = \"text-align: left;\">Psc</td><td style = \"font-style: italic; text-align: left;\">missing</td><td style = \"text-align: right;\">2.263e-5</td><td style = \"text-align: right;\">-5.49436</td><td style = \"text-align: left;\">T</td><td style = \"text-align: right;\">509.196</td><td style = \"text-align: right;\">506.856</td><td style = \"text-align: right;\">0.003</td><td style = \"text-align: right;\">-48.754</td><td style = \"text-align: left;\">G_R3</td><td style = \"text-align: right;\">9.239</td><td style = \"text-align: right;\">0.705</td><td style = \"text-align: right;\">1.117</td><td style = \"text-align: left;\">T</td><td style = \"text-align: right;\">-17.371</td><td style = \"text-align: left;\">G_R3</td><td style = \"text-align: right;\">22.498</td><td style = \"text-align: right;\">-11.301</td><td style = \"text-align: left;\">G_R3</td><td style = \"text-align: right;\">-19.904</td><td style = \"text-align: right;\">54.306</td><td style = \"text-align: right;\">-25.49</td><td style = \"text-align: left;\">G8 IV</td><td style = \"text-align: left;\">T</td></tr><tr><td class = \"rowNumber\" style = \"font-weight: bold; text-align: right;\">3</td><td style = \"text-align: right;\">3</td><td style = \"text-align: left;\">1-381-1</td><td style = \"font-style: italic; text-align: right;\">missing</td><td style = \"text-align: right;\">1</td><td style = \"text-align: right;\">1</td><td style = \"text-align: right;\">224700</td><td style = \"font-style: italic; text-align: right;\">missing</td><td style = \"font-style: italic; text-align: left;\">missing</td><td style = \"font-style: italic; text-align: left;\">missing</td><td style = \"font-style: italic; text-align: right;\">missing</td><td style = \"text-align: left;\">Psc</td><td style = \"font-style: italic; text-align: left;\">missing</td><td style = \"text-align: right;\">5.974e-5</td><td style = \"text-align: right;\">1.08901</td><td style = \"text-align: left;\">T</td><td style = \"text-align: right;\">219.78</td><td style = \"text-align: right;\">219.741</td><td style = \"text-align: right;\">0.003</td><td style = \"text-align: right;\">4.177</td><td style = \"text-align: left;\">HIP</td><td style = \"text-align: right;\">9.1</td><td style = \"text-align: right;\">2.39</td><td style = \"text-align: right;\">0.482</td><td style = \"text-align: left;\">HIP</td><td style = \"font-style: italic; text-align: right;\">missing</td><td style = \"text-align: left;\">N</td><td style = \"text-align: right;\">-5.2</td><td style = \"text-align: right;\">-1.88</td><td style = \"text-align: left;\">HYG</td><td style = \"text-align: right;\">0.037</td><td style = \"text-align: right;\">-5.418</td><td style = \"text-align: right;\">-1.958</td><td style = \"text-align: left;\">F3 V</td><td style = \"text-align: left;\">T</td></tr><tr><td class = \"rowNumber\" style = \"font-weight: bold; text-align: right;\">4</td><td style = \"text-align: right;\">4</td><td style = \"text-align: left;\">3258-1994-1</td><td style = \"text-align: right;\">395709634934560256</td><td style = \"font-style: italic; text-align: right;\">missing</td><td style = \"font-style: italic; text-align: right;\">missing</td><td style = \"font-style: italic; text-align: right;\">missing</td><td style = \"font-style: italic; text-align: right;\">missing</td><td style = \"font-style: italic; text-align: left;\">missing</td><td style = \"font-style: italic; text-align: left;\">missing</td><td style = \"font-style: italic; text-align: right;\">missing</td><td style = \"text-align: left;\">Cas</td><td style = \"font-style: italic; text-align: left;\">missing</td><td style = \"text-align: right;\">6.663e-5</td><td style = \"text-align: right;\">52.1778</td><td style = \"text-align: left;\">T</td><td style = \"text-align: right;\">696.999</td><td style = \"text-align: right;\">427.409</td><td style = \"text-align: right;\">0.007</td><td style = \"text-align: right;\">550.572</td><td style = \"text-align: left;\">G_R3</td><td style = \"text-align: right;\">11.816</td><td style = \"text-align: right;\">2.6</td><td style = \"text-align: right;\">1.228</td><td style = \"text-align: left;\">T</td><td style = \"text-align: right;\">-27.782</td><td style = \"text-align: left;\">G_R3</td><td style = \"text-align: right;\">14.421</td><td style = \"text-align: right;\">1.836</td><td style = \"text-align: left;\">G_R3</td><td style = \"text-align: right;\">-21.83</td><td style = \"text-align: right;\">47.647</td><td style = \"text-align: right;\">-18.225</td><td style = \"font-style: italic; text-align: left;\">missing</td><td style = \"text-align: left;\">N</td></tr><tr><td class = \"rowNumber\" style = \"font-weight: bold; text-align: right;\">5</td><td style = \"text-align: right;\">5</td><td style = \"text-align: left;\">5260-880-1</td><td style = \"text-align: right;\">2422928220045464320</td><td style = \"font-style: italic; text-align: right;\">missing</td><td style = \"font-style: italic; text-align: right;\">missing</td><td style = \"font-style: italic; text-align: right;\">missing</td><td style = \"font-style: italic; text-align: right;\">missing</td><td style = \"font-style: italic; text-align: left;\">missing</td><td style = \"font-style: italic; text-align: left;\">missing</td><td style = \"font-style: italic; text-align: right;\">missing</td><td style = \"text-align: left;\">Cet</td><td style = \"font-style: italic; text-align: left;\">missing</td><td style = \"text-align: right;\">7.408e-5</td><td style = \"text-align: right;\">-9.85649</td><td style = \"text-align: left;\">T</td><td style = \"text-align: right;\">501.797</td><td style = \"text-align: right;\">494.39</td><td style = \"text-align: right;\">0.01</td><td style = \"text-align: right;\">-85.898</td><td style = \"text-align: left;\">G_R3</td><td style = \"text-align: right;\">12.213</td><td style = \"text-align: right;\">3.71</td><td style = \"text-align: right;\">1.224</td><td style = \"text-align: left;\">T</td><td style = \"text-align: right;\">-44.539</td><td style = \"text-align: left;\">G_R3</td><td style = \"text-align: right;\">-10.292</td><td style = \"text-align: right;\">-17.136</td><td style = \"text-align: left;\">G_R3</td><td style = \"text-align: right;\">-50.859</td><td style = \"text-align: right;\">-24.482</td><td style = \"text-align: right;\">-32.536</td><td style = \"font-style: italic; text-align: left;\">missing</td><td style = \"text-align: left;\">N</td></tr><tr><td class = \"rowNumber\" style = \"font-weight: bold; text-align: right;\">6</td><td style = \"text-align: right;\">6</td><td style = \"text-align: left;\">6992-893-1</td><td style = \"text-align: right;\">2312711078532837632</td><td style = \"font-style: italic; text-align: right;\">missing</td><td style = \"font-style: italic; text-align: right;\">missing</td><td style = \"font-style: italic; text-align: right;\">missing</td><td style = \"font-style: italic; text-align: right;\">missing</td><td style = \"font-style: italic; text-align: left;\">missing</td><td style = \"font-style: italic; text-align: left;\">missing</td><td style = \"font-style: italic; text-align: right;\">missing</td><td style = \"text-align: left;\">Scl</td><td style = \"font-style: italic; text-align: left;\">missing</td><td style = \"text-align: right;\">7.429e-5</td><td style = \"text-align: right;\">-34.6979</td><td style = \"text-align: left;\">T</td><td style = \"text-align: right;\">454.809</td><td style = \"text-align: right;\">373.928</td><td style = \"text-align: right;\">0.007</td><td style = \"text-align: right;\">-258.899</td><td style = \"text-align: left;\">G_R3</td><td style = \"text-align: right;\">11.447</td><td style = \"text-align: right;\">3.158</td><td style = \"text-align: right;\">1.377</td><td style = \"text-align: left;\">T</td><td style = \"text-align: right;\">23.626</td><td style = \"text-align: left;\">G_R3</td><td style = \"text-align: right;\">18.349</td><td style = \"text-align: right;\">-15.049</td><td style = \"text-align: left;\">G_R3</td><td style = \"text-align: right;\">0.954</td><td style = \"text-align: right;\">39.56</td><td style = \"text-align: right;\">-40.125</td><td style = \"font-style: italic; text-align: left;\">missing</td><td style = \"text-align: left;\">N</td></tr><tr><td class = \"rowNumber\" style = \"font-weight: bold; text-align: right;\">7</td><td style = \"text-align: right;\">7</td><td style = \"text-align: left;\">3254-1981-1</td><td style = \"text-align: right;\">393457319723284096</td><td style = \"font-style: italic; text-align: right;\">missing</td><td style = \"font-style: italic; text-align: right;\">missing</td><td style = \"font-style: italic; text-align: right;\">missing</td><td style = \"font-style: italic; text-align: right;\">missing</td><td style = \"font-style: italic; text-align: left;\">missing</td><td style = \"font-style: italic; text-align: left;\">missing</td><td style = \"font-style: italic; text-align: right;\">missing</td><td style = \"text-align: left;\">Cas</td><td style = \"font-style: italic; text-align: left;\">missing</td><td style = \"text-align: right;\">0.00011352</td><td style = \"text-align: right;\">49.0362</td><td style = \"text-align: left;\">T</td><td style = \"text-align: right;\">283.337</td><td style = \"text-align: right;\">185.751</td><td style = \"text-align: right;\">0.006</td><td style = \"text-align: right;\">213.955</td><td style = \"text-align: left;\">G_R3</td><td style = \"text-align: right;\">11.292</td><td style = \"text-align: right;\">4.03</td><td style = \"text-align: right;\">0.466</td><td style = \"text-align: left;\">T</td><td style = \"text-align: right;\">-19.377</td><td style = \"text-align: left;\">G_R3</td><td style = \"text-align: right;\">-7.216</td><td style = \"text-align: right;\">-4.227</td><td style = \"text-align: left;\">G_R3</td><td style = \"text-align: right;\">-8.415</td><td style = \"text-align: right;\">-9.693</td><td style = \"text-align: right;\">-18.354</td><td style = \"font-style: italic; text-align: left;\">missing</td><td style = \"text-align: left;\">N</td></tr><tr><td class = \"rowNumber\" style = \"font-weight: bold; text-align: right;\">8</td><td style = \"text-align: right;\">8</td><td style = \"text-align: left;\">8028-139-1</td><td style = \"text-align: right;\">4976477592542752384</td><td style = \"font-style: italic; text-align: right;\">missing</td><td style = \"font-style: italic; text-align: right;\">missing</td><td style = \"font-style: italic; text-align: right;\">missing</td><td style = \"font-style: italic; text-align: right;\">missing</td><td style = \"font-style: italic; text-align: left;\">missing</td><td style = \"font-style: italic; text-align: left;\">missing</td><td style = \"font-style: italic; text-align: right;\">missing</td><td style = \"text-align: left;\">Phe</td><td style = \"font-style: italic; text-align: left;\">missing</td><td style = \"text-align: right;\">0.00011631</td><td style = \"text-align: right;\">-51.244</td><td style = \"text-align: left;\">T</td><td style = \"text-align: right;\">265.625</td><td style = \"text-align: right;\">166.283</td><td style = \"text-align: right;\">0.005</td><td style = \"text-align: right;\">-207.139</td><td style = \"text-align: left;\">G_R3</td><td style = \"text-align: right;\">12.067</td><td style = \"text-align: right;\">4.946</td><td style = \"text-align: right;\">0.723</td><td style = \"text-align: left;\">T</td><td style = \"text-align: right;\">30.575</td><td style = \"text-align: left;\">G_R3</td><td style = \"text-align: right;\">-13.233</td><td style = \"text-align: right;\">-17.704</td><td style = \"text-align: left;\">G_R3</td><td style = \"text-align: right;\">1.756</td><td style = \"text-align: right;\">-16.663</td><td style = \"text-align: right;\">-37.799</td><td style = \"font-style: italic; text-align: left;\">missing</td><td style = \"text-align: left;\">N</td></tr><tr><td class = \"rowNumber\" style = \"font-weight: bold; text-align: right;\">9</td><td style = \"text-align: right;\">9</td><td style = \"text-align: left;\">1729-242-1</td><td style = \"text-align: right;\">2848069474850082944</td><td style = \"font-style: italic; text-align: right;\">missing</td><td style = \"font-style: italic; text-align: right;\">missing</td><td style = \"font-style: italic; text-align: right;\">missing</td><td style = \"font-style: italic; text-align: right;\">missing</td><td style = \"font-style: italic; text-align: left;\">missing</td><td style = \"font-style: italic; text-align: left;\">missing</td><td style = \"font-style: italic; text-align: right;\">missing</td><td style = \"text-align: left;\">Peg</td><td style = \"font-style: italic; text-align: left;\">missing</td><td style = \"text-align: right;\">0.00014976</td><td style = \"text-align: right;\">22.6966</td><td style = \"text-align: left;\">T</td><td style = \"text-align: right;\">399.693</td><td style = \"text-align: right;\">368.741</td><td style = \"text-align: right;\">0.014</td><td style = \"text-align: right;\">154.223</td><td style = \"text-align: left;\">G_R3</td><td style = \"text-align: right;\">11.948</td><td style = \"text-align: right;\">3.939</td><td style = \"text-align: right;\">0.287</td><td style = \"text-align: left;\">T</td><td style = \"text-align: right;\">3.238</td><td style = \"text-align: left;\">G_R3</td><td style = \"text-align: right;\">16.516</td><td style = \"text-align: right;\">10.689</td><td style = \"text-align: left;\">G_R3</td><td style = \"text-align: right;\">-4.828</td><td style = \"text-align: right;\">31.292</td><td style = \"text-align: right;\">19.933</td><td style = \"font-style: italic; text-align: left;\">missing</td><td style = \"text-align: left;\">N</td></tr><tr><td class = \"rowNumber\" style = \"font-weight: bold; text-align: right;\">10</td><td style = \"text-align: right;\">10</td><td style = \"text-align: left;\">2785-560-1</td><td style = \"text-align: right;\">2882189824625718272</td><td style = \"font-style: italic; text-align: right;\">missing</td><td style = \"font-style: italic; text-align: right;\">missing</td><td style = \"font-style: italic; text-align: right;\">missing</td><td style = \"font-style: italic; text-align: right;\">missing</td><td style = \"font-style: italic; text-align: left;\">missing</td><td style = \"font-style: italic; text-align: left;\">missing</td><td style = \"font-style: italic; text-align: right;\">missing</td><td style = \"text-align: left;\">And</td><td style = \"font-style: italic; text-align: left;\">missing</td><td style = \"text-align: right;\">0.00017969</td><td style = \"text-align: right;\">40.6773</td><td style = \"text-align: left;\">T</td><td style = \"text-align: right;\">2126.82</td><td style = \"text-align: right;\">1612.96</td><td style = \"text-align: right;\">0.076</td><td style = \"text-align: right;\">1386.25</td><td style = \"text-align: left;\">G_R3</td><td style = \"text-align: right;\">12.103</td><td style = \"text-align: right;\">0.464</td><td style = \"text-align: right;\">1.849</td><td style = \"text-align: left;\">T</td><td style = \"text-align: right;\">-31.714</td><td style = \"text-align: left;\">G_R3</td><td style = \"text-align: right;\">-3.501</td><td style = \"text-align: right;\">-0.468</td><td style = \"text-align: left;\">G_R3</td><td style = \"text-align: right;\">-20.977</td><td style = \"text-align: right;\">-35.3</td><td style = \"text-align: right;\">-24.247</td><td style = \"font-style: italic; text-align: left;\">missing</td><td style = \"text-align: left;\">N</td></tr><tr><td class = \"rowNumber\" style = \"font-weight: bold; text-align: right;\">11</td><td style = \"text-align: right;\">11</td><td style = \"text-align: left;\">1-251-1</td><td style = \"text-align: right;\">2738611198223581312</td><td style = \"font-style: italic; text-align: right;\">missing</td><td style = \"font-style: italic; text-align: right;\">missing</td><td style = \"font-style: italic; text-align: right;\">missing</td><td style = \"font-style: italic; text-align: right;\">missing</td><td style = \"font-style: italic; text-align: left;\">missing</td><td style = \"font-style: italic; text-align: left;\">missing</td><td style = \"font-style: italic; text-align: right;\">missing</td><td style = \"text-align: left;\">Psc</td><td style = \"font-style: italic; text-align: left;\">missing</td><td style = \"text-align: right;\">0.00018734</td><td style = \"text-align: right;\">1.2473</td><td style = \"text-align: left;\">T</td><td style = \"text-align: right;\">420.469</td><td style = \"text-align: right;\">420.37</td><td style = \"text-align: right;\">0.021</td><td style = \"text-align: right;\">9.153</td><td style = \"text-align: left;\">G_R3</td><td style = \"text-align: right;\">11.529</td><td style = \"text-align: right;\">3.41</td><td style = \"text-align: right;\">0.485</td><td style = \"text-align: left;\">T</td><td style = \"text-align: right;\">-13.991</td><td style = \"text-align: left;\">G_R3</td><td style = \"text-align: right;\">-19.062</td><td style = \"text-align: right;\">-35.014</td><td style = \"text-align: left;\">G_R3</td><td style = \"text-align: right;\">-12.467</td><td style = \"text-align: right;\">-37.995</td><td style = \"text-align: right;\">-70.079</td><td style = \"font-style: italic; text-align: left;\">missing</td><td style = \"text-align: left;\">N</td></tr><tr><td class = \"rowNumber\" style = \"font-weight: bold; text-align: right;\">12</td><td style = \"text-align: right;\">12</td><td style = \"text-align: left;\">3254-585-1</td><td style = \"text-align: right;\">393361215531714560</td><td style = \"font-style: italic; text-align: right;\">missing</td><td style = \"font-style: italic; text-align: right;\">missing</td><td style = \"font-style: italic; text-align: right;\">missing</td><td style = \"font-style: italic; text-align: right;\">missing</td><td style = \"font-style: italic; text-align: left;\">missing</td><td style = \"font-style: italic; text-align: left;\">missing</td><td style = \"font-style: italic; text-align: right;\">missing</td><td style = \"text-align: left;\">Cas</td><td style = \"font-style: italic; text-align: left;\">missing</td><td style = \"text-align: right;\">0.00020151</td><td style = \"text-align: right;\">48.9056</td><td style = \"text-align: left;\">T</td><td style = \"text-align: right;\">673.735</td><td style = \"text-align: right;\">442.847</td><td style = \"text-align: right;\">0.023</td><td style = \"text-align: right;\">507.745</td><td style = \"text-align: left;\">G_R3</td><td style = \"text-align: right;\">10.527</td><td style = \"text-align: right;\">1.385</td><td style = \"text-align: right;\">0.166</td><td style = \"text-align: left;\">T</td><td style = \"text-align: right;\">-11.189</td><td style = \"text-align: left;\">G_R3</td><td style = \"text-align: right;\">-0.617</td><td style = \"text-align: right;\">-0.462</td><td style = \"text-align: left;\">G_R3</td><td style = \"text-align: right;\">-6.243</td><td style = \"text-align: right;\">-1.972</td><td style = \"text-align: right;\">-9.402</td><td style = \"font-style: italic; text-align: left;\">missing</td><td style = \"text-align: left;\">N</td></tr><tr><td class = \"rowNumber\" style = \"font-weight: bold; text-align: right;\">13</td><td style = \"text-align: right;\">13</td><td style = \"text-align: left;\">4302-1966-1</td><td style = \"text-align: right;\">531415758077608192</td><td style = \"font-style: italic; text-align: right;\">missing</td><td style = \"font-style: italic; text-align: right;\">missing</td><td style = \"font-style: italic; text-align: right;\">missing</td><td style = \"font-style: italic; text-align: right;\">missing</td><td style = \"font-style: italic; text-align: left;\">missing</td><td style = \"font-style: italic; text-align: left;\">missing</td><td style = \"font-style: italic; text-align: right;\">missing</td><td style = \"text-align: left;\">Cep</td><td style = \"font-style: italic; text-align: left;\">missing</td><td style = \"text-align: right;\">0.00022215</td><td style = \"text-align: right;\">72.1642</td><td style = \"text-align: left;\">T</td><td style = \"text-align: right;\">431.422</td><td style = \"text-align: right;\">132.141</td><td style = \"text-align: right;\">0.008</td><td style = \"text-align: right;\">410.687</td><td style = \"text-align: left;\">G_R3</td><td style = \"text-align: right;\">12.262</td><td style = \"text-align: right;\">4.087</td><td style = \"text-align: right;\">1.314</td><td style = \"text-align: left;\">T</td><td style = \"text-align: right;\">-57.677</td><td style = \"text-align: left;\">G_R3</td><td style = \"text-align: right;\">-3.431</td><td style = \"text-align: right;\">12.808</td><td style = \"text-align: left;\">G_R3</td><td style = \"text-align: right;\">-42.6</td><td style = \"text-align: right;\">-7.02</td><td style = \"text-align: right;\">-46.882</td><td style = \"font-style: italic; text-align: left;\">missing</td><td style = \"text-align: left;\">N</td></tr><tr><td style = \"text-align: right;\">&vellip;</td><td style = \"text-align: right;\">&vellip;</td><td style = \"text-align: right;\">&vellip;</td><td style = \"text-align: right;\">&vellip;</td><td style = \"text-align: right;\">&vellip;</td><td style = \"text-align: right;\">&vellip;</td><td style = \"text-align: right;\">&vellip;</td><td style = \"text-align: right;\">&vellip;</td><td style = \"text-align: right;\">&vellip;</td><td style = \"text-align: right;\">&vellip;</td><td style = \"text-align: right;\">&vellip;</td><td style = \"text-align: right;\">&vellip;</td><td style = \"text-align: right;\">&vellip;</td><td style = \"text-align: right;\">&vellip;</td><td style = \"text-align: right;\">&vellip;</td><td style = \"text-align: right;\">&vellip;</td><td style = \"text-align: right;\">&vellip;</td><td style = \"text-align: right;\">&vellip;</td><td style = \"text-align: right;\">&vellip;</td><td style = \"text-align: right;\">&vellip;</td><td style = \"text-align: right;\">&vellip;</td><td style = \"text-align: right;\">&vellip;</td><td style = \"text-align: right;\">&vellip;</td><td style = \"text-align: right;\">&vellip;</td><td style = \"text-align: right;\">&vellip;</td><td style = \"text-align: right;\">&vellip;</td><td style = \"text-align: right;\">&vellip;</td><td style = \"text-align: right;\">&vellip;</td><td style = \"text-align: right;\">&vellip;</td><td style = \"text-align: right;\">&vellip;</td><td style = \"text-align: right;\">&vellip;</td><td style = \"text-align: right;\">&vellip;</td><td style = \"text-align: right;\">&vellip;</td><td style = \"text-align: right;\">&vellip;</td><td style = \"text-align: right;\">&vellip;</td></tr><tr><td class = \"rowNumber\" style = \"font-weight: bold; text-align: right;\">2552154</td><td style = \"text-align: right;\">2552154</td><td style = \"text-align: left;\">590-42-1</td><td style = \"text-align: right;\">2739910412945529088</td><td style = \"font-style: italic; text-align: right;\">missing</td><td style = \"font-style: italic; text-align: right;\">missing</td><td style = \"font-style: italic; text-align: right;\">missing</td><td style = \"font-style: italic; text-align: right;\">missing</td><td style = \"font-style: italic; text-align: left;\">missing</td><td style = \"font-style: italic; text-align: left;\">missing</td><td style = \"font-style: italic; text-align: right;\">missing</td><td style = \"text-align: left;\">Psc</td><td style = \"font-style: italic; text-align: left;\">missing</td><td style = \"text-align: right;\">23.9998</td><td style = \"text-align: right;\">2.8425</td><td style = \"text-align: left;\">T</td><td style = \"text-align: right;\">210.727</td><td style = \"text-align: right;\">210.468</td><td style = \"text-align: right;\">-0.01</td><td style = \"text-align: right;\">10.45</td><td style = \"text-align: left;\">G_R3</td><td style = \"text-align: right;\">11.867</td><td style = \"text-align: right;\">5.248</td><td style = \"text-align: right;\">0.836</td><td style = \"text-align: left;\">T</td><td style = \"text-align: right;\">-8.309</td><td style = \"text-align: left;\">G_R3</td><td style = \"text-align: right;\">-36.408</td><td style = \"text-align: right;\">-67.986</td><td style = \"text-align: left;\">G_R3</td><td style = \"text-align: right;\">-4.932</td><td style = \"text-align: right;\">-36.369</td><td style = \"text-align: right;\">-68.243</td><td style = \"font-style: italic; text-align: left;\">missing</td><td style = \"text-align: left;\">N</td></tr><tr><td class = \"rowNumber\" style = \"font-weight: bold; text-align: right;\">2552155</td><td style = \"text-align: right;\">2552155</td><td style = \"text-align: left;\">1725-806-1</td><td style = \"text-align: right;\">2774183942731098112</td><td style = \"font-style: italic; text-align: right;\">missing</td><td style = \"font-style: italic; text-align: right;\">missing</td><td style = \"font-style: italic; text-align: right;\">missing</td><td style = \"font-style: italic; text-align: right;\">missing</td><td style = \"font-style: italic; text-align: left;\">missing</td><td style = \"font-style: italic; text-align: left;\">missing</td><td style = \"font-style: italic; text-align: right;\">missing</td><td style = \"text-align: left;\">Peg</td><td style = \"font-style: italic; text-align: left;\">missing</td><td style = \"text-align: right;\">23.9999</td><td style = \"text-align: right;\">18.9501</td><td style = \"text-align: left;\">T</td><td style = \"text-align: right;\">300.048</td><td style = \"text-align: right;\">283.786</td><td style = \"text-align: right;\">-0.01</td><td style = \"text-align: right;\">97.439</td><td style = \"text-align: left;\">G_R3</td><td style = \"text-align: right;\">10.221</td><td style = \"text-align: right;\">2.835</td><td style = \"text-align: right;\">1.334</td><td style = \"text-align: left;\">T</td><td style = \"text-align: right;\">-35.201</td><td style = \"text-align: left;\">G_R3</td><td style = \"text-align: right;\">1.31</td><td style = \"text-align: right;\">-1.336</td><td style = \"text-align: left;\">G_R3</td><td style = \"text-align: right;\">-32.676</td><td style = \"text-align: right;\">1.864</td><td style = \"text-align: right;\">-13.228</td><td style = \"font-style: italic; text-align: left;\">missing</td><td style = \"text-align: left;\">N</td></tr><tr><td class = \"rowNumber\" style = \"font-weight: bold; text-align: right;\">2552156</td><td style = \"text-align: right;\">2552156</td><td style = \"text-align: left;\">4009-1581-1</td><td style = \"text-align: right;\">1995018734263229056</td><td style = \"font-style: italic; text-align: right;\">missing</td><td style = \"font-style: italic; text-align: right;\">missing</td><td style = \"font-style: italic; text-align: right;\">missing</td><td style = \"font-style: italic; text-align: right;\">missing</td><td style = \"font-style: italic; text-align: left;\">missing</td><td style = \"font-style: italic; text-align: left;\">missing</td><td style = \"font-style: italic; text-align: right;\">missing</td><td style = \"text-align: left;\">Cas</td><td style = \"font-style: italic; text-align: left;\">missing</td><td style = \"text-align: right;\">23.9999</td><td style = \"text-align: right;\">56.8707</td><td style = \"text-align: left;\">T</td><td style = \"text-align: right;\">3244.11</td><td style = \"text-align: right;\">1773.01</td><td style = \"text-align: right;\">-0.052</td><td style = \"text-align: right;\">2716.75</td><td style = \"text-align: left;\">G_R3</td><td style = \"text-align: right;\">11.686</td><td style = \"text-align: right;\">-0.869</td><td style = \"text-align: right;\">0.185</td><td style = \"text-align: left;\">T</td><td style = \"font-style: italic; text-align: right;\">missing</td><td style = \"text-align: left;\">N</td><td style = \"text-align: right;\">-3.44</td><td style = \"text-align: right;\">-2.14</td><td style = \"text-align: left;\">G_R3</td><td style = \"text-align: right;\">27.552</td><td style = \"text-align: right;\">-52.909</td><td style = \"text-align: right;\">-17.982</td><td style = \"font-style: italic; text-align: left;\">missing</td><td style = \"text-align: left;\">N</td></tr><tr><td class = \"rowNumber\" style = \"font-weight: bold; text-align: right;\">2552157</td><td style = \"text-align: right;\">2552157</td><td style = \"text-align: left;\">2772-134-1</td><td style = \"text-align: right;\">2873753516719351552</td><td style = \"font-style: italic; text-align: right;\">missing</td><td style = \"font-style: italic; text-align: right;\">missing</td><td style = \"font-style: italic; text-align: right;\">missing</td><td style = \"font-style: italic; text-align: right;\">missing</td><td style = \"font-style: italic; text-align: left;\">missing</td><td style = \"font-style: italic; text-align: left;\">missing</td><td style = \"font-style: italic; text-align: right;\">missing</td><td style = \"text-align: left;\">And</td><td style = \"font-style: italic; text-align: left;\">missing</td><td style = \"text-align: right;\">23.9999</td><td style = \"text-align: right;\">32.0417</td><td style = \"text-align: left;\">T</td><td style = \"text-align: right;\">472.506</td><td style = \"text-align: right;\">400.525</td><td style = \"text-align: right;\">-0.011</td><td style = \"text-align: right;\">250.682</td><td style = \"text-align: left;\">G_R3</td><td style = \"text-align: right;\">10.748</td><td style = \"text-align: right;\">2.376</td><td style = \"text-align: right;\">0.564</td><td style = \"text-align: left;\">T</td><td style = \"text-align: right;\">0.304</td><td style = \"text-align: left;\">G_R3</td><td style = \"text-align: right;\">-7.607</td><td style = \"text-align: right;\">0.019</td><td style = \"text-align: left;\">G_R3</td><td style = \"text-align: right;\">0.235</td><td style = \"text-align: right;\">-17.039</td><td style = \"text-align: right;\">0.197</td><td style = \"font-style: italic; text-align: left;\">missing</td><td style = \"text-align: left;\">N</td></tr><tr><td class = \"rowNumber\" style = \"font-weight: bold; text-align: right;\">2552158</td><td style = \"text-align: right;\">2552158</td><td style = \"text-align: left;\">3639-2443-1</td><td style = \"text-align: right;\">1926109797929788928</td><td style = \"font-style: italic; text-align: right;\">missing</td><td style = \"font-style: italic; text-align: right;\">missing</td><td style = \"font-style: italic; text-align: right;\">missing</td><td style = \"font-style: italic; text-align: right;\">missing</td><td style = \"font-style: italic; text-align: left;\">missing</td><td style = \"font-style: italic; text-align: left;\">missing</td><td style = \"font-style: italic; text-align: right;\">missing</td><td style = \"text-align: left;\">And</td><td style = \"font-style: italic; text-align: left;\">missing</td><td style = \"text-align: right;\">23.9999</td><td style = \"text-align: right;\">45.3909</td><td style = \"text-align: left;\">T</td><td style = \"text-align: right;\">905.803</td><td style = \"text-align: right;\">636.115</td><td style = \"text-align: right;\">-0.017</td><td style = \"text-align: right;\">644.855</td><td style = \"text-align: left;\">G_R3</td><td style = \"text-align: right;\">12.357</td><td style = \"text-align: right;\">2.572</td><td style = \"text-align: right;\">1.078</td><td style = \"text-align: left;\">T</td><td style = \"text-align: right;\">-60.409</td><td style = \"text-align: left;\">G_R3</td><td style = \"text-align: right;\">22.008</td><td style = \"text-align: right;\">0.311</td><td style = \"text-align: left;\">G_R3</td><td style = \"text-align: right;\">-43.372</td><td style = \"text-align: right;\">94.502</td><td style = \"text-align: right;\">-42.067</td><td style = \"font-style: italic; text-align: left;\">missing</td><td style = \"text-align: left;\">N</td></tr><tr><td class = \"rowNumber\" style = \"font-weight: bold; text-align: right;\">2552159</td><td style = \"text-align: right;\">2552159</td><td style = \"text-align: left;\">2255-787-1</td><td style = \"text-align: right;\">2853592768433009536</td><td style = \"font-style: italic; text-align: right;\">missing</td><td style = \"font-style: italic; text-align: right;\">missing</td><td style = \"font-style: italic; text-align: right;\">missing</td><td style = \"font-style: italic; text-align: right;\">missing</td><td style = \"font-style: italic; text-align: left;\">missing</td><td style = \"font-style: italic; text-align: left;\">missing</td><td style = \"font-style: italic; text-align: right;\">missing</td><td style = \"text-align: left;\">Peg</td><td style = \"font-style: italic; text-align: left;\">missing</td><td style = \"text-align: right;\">23.9999</td><td style = \"text-align: right;\">27.2088</td><td style = \"text-align: left;\">T</td><td style = \"text-align: right;\">232.929</td><td style = \"text-align: right;\">207.154</td><td style = \"text-align: right;\">-0.003</td><td style = \"text-align: right;\">106.503</td><td style = \"text-align: left;\">G_R3</td><td style = \"text-align: right;\">10.282</td><td style = \"text-align: right;\">3.446</td><td style = \"text-align: right;\">0.698</td><td style = \"text-align: left;\">T</td><td style = \"text-align: right;\">-27.194</td><td style = \"text-align: left;\">G_R3</td><td style = \"text-align: right;\">-35.734</td><td style = \"text-align: right;\">-4.38</td><td style = \"text-align: left;\">G_R3</td><td style = \"text-align: right;\">-21.974</td><td style = \"text-align: right;\">-39.457</td><td style = \"text-align: right;\">-16.736</td><td style = \"text-align: left;\">F8</td><td style = \"text-align: left;\">T</td></tr><tr><td class = \"rowNumber\" style = \"font-weight: bold; text-align: right;\">2552160</td><td style = \"text-align: right;\">2552160</td><td style = \"text-align: left;\">5253-332-1</td><td style = \"text-align: right;\">2449957651830140160</td><td style = \"font-style: italic; text-align: right;\">missing</td><td style = \"font-style: italic; text-align: right;\">missing</td><td style = \"font-style: italic; text-align: right;\">missing</td><td style = \"font-style: italic; text-align: right;\">missing</td><td style = \"font-style: italic; text-align: left;\">missing</td><td style = \"font-style: italic; text-align: left;\">missing</td><td style = \"font-style: italic; text-align: right;\">missing</td><td style = \"text-align: left;\">Psc</td><td style = \"font-style: italic; text-align: left;\">missing</td><td style = \"text-align: right;\">23.9999</td><td style = \"text-align: right;\">-0.0653471</td><td style = \"text-align: left;\">T</td><td style = \"text-align: right;\">2259.3</td><td style = \"text-align: right;\">2259.3</td><td style = \"text-align: right;\">-0.038</td><td style = \"text-align: right;\">-2.577</td><td style = \"text-align: left;\">G_R3</td><td style = \"text-align: right;\">10.609</td><td style = \"text-align: right;\">-1.161</td><td style = \"text-align: right;\">1.336</td><td style = \"text-align: left;\">T</td><td style = \"text-align: right;\">25.109</td><td style = \"text-align: left;\">G_R3</td><td style = \"text-align: right;\">11.348</td><td style = \"text-align: right;\">-8.314</td><td style = \"text-align: left;\">G_R3</td><td style = \"text-align: right;\">25.009</td><td style = \"text-align: right;\">121.536</td><td style = \"text-align: right;\">-89.07</td><td style = \"font-style: italic; text-align: left;\">missing</td><td style = \"text-align: left;\">N</td></tr><tr><td class = \"rowNumber\" style = \"font-weight: bold; text-align: right;\">2552161</td><td style = \"text-align: right;\">2552161</td><td style = \"text-align: left;\">1722-672-1</td><td style = \"text-align: right;\">2772098031734496512</td><td style = \"font-style: italic; text-align: right;\">missing</td><td style = \"font-style: italic; text-align: right;\">missing</td><td style = \"font-style: italic; text-align: right;\">missing</td><td style = \"font-style: italic; text-align: right;\">missing</td><td style = \"font-style: italic; text-align: left;\">missing</td><td style = \"font-style: italic; text-align: left;\">missing</td><td style = \"font-style: italic; text-align: right;\">missing</td><td style = \"text-align: left;\">Peg</td><td style = \"font-style: italic; text-align: left;\">missing</td><td style = \"text-align: right;\">23.9999</td><td style = \"text-align: right;\">15.4779</td><td style = \"text-align: left;\">T</td><td style = \"text-align: right;\">497.417</td><td style = \"text-align: right;\">479.377</td><td style = \"text-align: right;\">-0.007</td><td style = \"text-align: right;\">132.744</td><td style = \"text-align: left;\">G_R3</td><td style = \"text-align: right;\">12.16</td><td style = \"text-align: right;\">3.676</td><td style = \"text-align: right;\">0.031</td><td style = \"text-align: left;\">T</td><td style = \"text-align: right;\">-5.661</td><td style = \"text-align: left;\">G_R3</td><td style = \"text-align: right;\">28.069</td><td style = \"text-align: right;\">-3.353</td><td style = \"text-align: left;\">G_R3</td><td style = \"text-align: right;\">-3.345</td><td style = \"text-align: right;\">66.187</td><td style = \"text-align: right;\">-9.13</td><td style = \"font-style: italic; text-align: left;\">missing</td><td style = \"text-align: left;\">N</td></tr><tr><td class = \"rowNumber\" style = \"font-weight: bold; text-align: right;\">2552162</td><td style = \"text-align: right;\">2552162</td><td style = \"text-align: left;\">6988-385-1</td><td style = \"text-align: right;\">2333399485025767936</td><td style = \"font-style: italic; text-align: right;\">missing</td><td style = \"font-style: italic; text-align: right;\">missing</td><td style = \"font-style: italic; text-align: right;\">missing</td><td style = \"font-style: italic; text-align: right;\">missing</td><td style = \"font-style: italic; text-align: left;\">missing</td><td style = \"font-style: italic; text-align: left;\">missing</td><td style = \"font-style: italic; text-align: right;\">missing</td><td style = \"text-align: left;\">Scl</td><td style = \"font-style: italic; text-align: left;\">missing</td><td style = \"text-align: right;\">23.9999</td><td style = \"text-align: right;\">-27.719</td><td style = \"text-align: left;\">T</td><td style = \"text-align: right;\">163.505</td><td style = \"text-align: right;\">144.741</td><td style = \"text-align: right;\">-0.002</td><td style = \"text-align: right;\">-76.052</td><td style = \"text-align: left;\">G_R3</td><td style = \"text-align: right;\">11.53</td><td style = \"text-align: right;\">5.462</td><td style = \"text-align: right;\">0.804</td><td style = \"text-align: left;\">T</td><td style = \"text-align: right;\">-13.195</td><td style = \"text-align: left;\">G_R3</td><td style = \"text-align: right;\">-23.053</td><td style = \"text-align: right;\">-47.45</td><td style = \"text-align: left;\">G_R3</td><td style = \"text-align: right;\">-28.788</td><td style = \"text-align: right;\">-17.868</td><td style = \"text-align: right;\">-26.42</td><td style = \"font-style: italic; text-align: left;\">missing</td><td style = \"text-align: left;\">N</td></tr><tr><td class = \"rowNumber\" style = \"font-weight: bold; text-align: right;\">2552163</td><td style = \"text-align: right;\">2552163</td><td style = \"text-align: left;\">3241-1424-1</td><td style = \"text-align: right;\">1921554594272345984</td><td style = \"font-style: italic; text-align: right;\">missing</td><td style = \"font-style: italic; text-align: right;\">missing</td><td style = \"font-style: italic; text-align: right;\">missing</td><td style = \"font-style: italic; text-align: right;\">missing</td><td style = \"font-style: italic; text-align: left;\">missing</td><td style = \"font-style: italic; text-align: left;\">missing</td><td style = \"font-style: italic; text-align: right;\">missing</td><td style = \"text-align: left;\">And</td><td style = \"font-style: italic; text-align: left;\">missing</td><td style = \"text-align: right;\">24.0</td><td style = \"text-align: right;\">42.082</td><td style = \"text-align: left;\">T</td><td style = \"text-align: right;\">252.543</td><td style = \"text-align: right;\">187.434</td><td style = \"text-align: right;\">-0.002</td><td style = \"text-align: right;\">169.253</td><td style = \"text-align: left;\">G_R3</td><td style = \"text-align: right;\">11.29</td><td style = \"text-align: right;\">4.278</td><td style = \"text-align: right;\">0.792</td><td style = \"text-align: left;\">T</td><td style = \"font-style: italic; text-align: right;\">missing</td><td style = \"text-align: left;\">N</td><td style = \"text-align: right;\">11.916</td><td style = \"text-align: right;\">-30.287</td><td style = \"text-align: left;\">G_R3</td><td style = \"text-align: right;\">24.301</td><td style = \"text-align: right;\">14.265</td><td style = \"text-align: right;\">-26.911</td><td style = \"font-style: italic; text-align: left;\">missing</td><td style = \"text-align: left;\">N</td></tr><tr><td class = \"rowNumber\" style = \"font-weight: bold; text-align: right;\">2552164</td><td style = \"text-align: right;\">2552164</td><td style = \"text-align: left;\">3660-1372-1</td><td style = \"text-align: right;\">1994789971419995392</td><td style = \"font-style: italic; text-align: right;\">missing</td><td style = \"font-style: italic; text-align: right;\">missing</td><td style = \"font-style: italic; text-align: right;\">missing</td><td style = \"font-style: italic; text-align: right;\">missing</td><td style = \"font-style: italic; text-align: left;\">missing</td><td style = \"font-style: italic; text-align: left;\">missing</td><td style = \"font-style: italic; text-align: right;\">missing</td><td style = \"text-align: left;\">Cas</td><td style = \"font-style: italic; text-align: left;\">missing</td><td style = \"text-align: right;\">24.0</td><td style = \"text-align: right;\">56.2897</td><td style = \"text-align: left;\">T</td><td style = \"text-align: right;\">1757.3</td><td style = \"text-align: right;\">975.29</td><td style = \"text-align: right;\">-0.002</td><td style = \"text-align: right;\">1461.82</td><td style = \"text-align: left;\">G_R3</td><td style = \"text-align: right;\">11.534</td><td style = \"text-align: right;\">0.31</td><td style = \"text-align: right;\">2.178</td><td style = \"text-align: left;\">T</td><td style = \"text-align: right;\">-57.914</td><td style = \"text-align: left;\">G_R3</td><td style = \"text-align: right;\">-7.611</td><td style = \"text-align: right;\">-2.789</td><td style = \"text-align: left;\">G_R3</td><td style = \"text-align: right;\">-12.816</td><td style = \"text-align: right;\">-63.404</td><td style = \"text-align: right;\">-61.069</td><td style = \"font-style: italic; text-align: left;\">missing</td><td style = \"text-align: left;\">N</td></tr><tr><td class = \"rowNumber\" style = \"font-weight: bold; text-align: right;\">2552165</td><td style = \"text-align: right;\">2552165</td><td style = \"text-align: left;\">593-1533-1</td><td style = \"text-align: right;\">2744972427042371712</td><td style = \"font-style: italic; text-align: right;\">missing</td><td style = \"font-style: italic; text-align: right;\">missing</td><td style = \"font-style: italic; text-align: right;\">missing</td><td style = \"font-style: italic; text-align: right;\">missing</td><td style = \"font-style: italic; text-align: left;\">missing</td><td style = \"font-style: italic; text-align: left;\">missing</td><td style = \"font-style: italic; text-align: right;\">missing</td><td style = \"text-align: left;\">Psc</td><td style = \"font-style: italic; text-align: left;\">missing</td><td style = \"text-align: right;\">24.0</td><td style = \"text-align: right;\">5.20846</td><td style = \"text-align: left;\">T</td><td style = \"text-align: right;\">355.643</td><td style = \"text-align: right;\">354.174</td><td style = \"text-align: right;\">-0.001</td><td style = \"text-align: right;\">32.285</td><td style = \"text-align: left;\">G_R3</td><td style = \"text-align: right;\">11.309</td><td style = \"text-align: right;\">3.554</td><td style = \"text-align: right;\">0.638</td><td style = \"text-align: left;\">T</td><td style = \"text-align: right;\">-18.653</td><td style = \"text-align: left;\">G_R3</td><td style = \"text-align: right;\">-4.754</td><td style = \"text-align: right;\">-7.84</td><td style = \"text-align: left;\">G_R3</td><td style = \"text-align: right;\">-17.376</td><td style = \"text-align: right;\">-8.014</td><td style = \"text-align: right;\">-14.857</td><td style = \"font-style: italic; text-align: left;\">missing</td><td style = \"text-align: left;\">N</td></tr></tbody></table></div>"
      ],
      "text/latex": [
       "\\begin{tabular}{r|ccccccccc}\n",
       "\t& id & tyc & gaia & hyg & hip & hd & hr & gl & \\\\\n",
       "\t\\hline\n",
       "\t& Int64 & String15? & Int64? & Int64? & Int64? & Int64? & Int64? & String15? & \\\\\n",
       "\t\\hline\n",
       "\t1 & 1 & \\emph{missing} & \\emph{missing} & 0 & \\emph{missing} & \\emph{missing} & \\emph{missing} & \\emph{missing} & $\\dots$ \\\\\n",
       "\t2 & 2 & 4669-731-1 & 2443095153084654208 & \\emph{missing} & \\emph{missing} & 224701 & \\emph{missing} & \\emph{missing} & $\\dots$ \\\\\n",
       "\t3 & 3 & 1-381-1 & \\emph{missing} & 1 & 1 & 224700 & \\emph{missing} & \\emph{missing} & $\\dots$ \\\\\n",
       "\t4 & 4 & 3258-1994-1 & 395709634934560256 & \\emph{missing} & \\emph{missing} & \\emph{missing} & \\emph{missing} & \\emph{missing} & $\\dots$ \\\\\n",
       "\t5 & 5 & 5260-880-1 & 2422928220045464320 & \\emph{missing} & \\emph{missing} & \\emph{missing} & \\emph{missing} & \\emph{missing} & $\\dots$ \\\\\n",
       "\t6 & 6 & 6992-893-1 & 2312711078532837632 & \\emph{missing} & \\emph{missing} & \\emph{missing} & \\emph{missing} & \\emph{missing} & $\\dots$ \\\\\n",
       "\t7 & 7 & 3254-1981-1 & 393457319723284096 & \\emph{missing} & \\emph{missing} & \\emph{missing} & \\emph{missing} & \\emph{missing} & $\\dots$ \\\\\n",
       "\t8 & 8 & 8028-139-1 & 4976477592542752384 & \\emph{missing} & \\emph{missing} & \\emph{missing} & \\emph{missing} & \\emph{missing} & $\\dots$ \\\\\n",
       "\t9 & 9 & 1729-242-1 & 2848069474850082944 & \\emph{missing} & \\emph{missing} & \\emph{missing} & \\emph{missing} & \\emph{missing} & $\\dots$ \\\\\n",
       "\t10 & 10 & 2785-560-1 & 2882189824625718272 & \\emph{missing} & \\emph{missing} & \\emph{missing} & \\emph{missing} & \\emph{missing} & $\\dots$ \\\\\n",
       "\t11 & 11 & 1-251-1 & 2738611198223581312 & \\emph{missing} & \\emph{missing} & \\emph{missing} & \\emph{missing} & \\emph{missing} & $\\dots$ \\\\\n",
       "\t12 & 12 & 3254-585-1 & 393361215531714560 & \\emph{missing} & \\emph{missing} & \\emph{missing} & \\emph{missing} & \\emph{missing} & $\\dots$ \\\\\n",
       "\t13 & 13 & 4302-1966-1 & 531415758077608192 & \\emph{missing} & \\emph{missing} & \\emph{missing} & \\emph{missing} & \\emph{missing} & $\\dots$ \\\\\n",
       "\t14 & 14 & 2259-803-1 & 2873720840608127872 & \\emph{missing} & \\emph{missing} & \\emph{missing} & \\emph{missing} & \\emph{missing} & $\\dots$ \\\\\n",
       "\t15 & 15 & 1732-2122-1 & 2853452615060143744 & \\emph{missing} & \\emph{missing} & \\emph{missing} & \\emph{missing} & \\emph{missing} & $\\dots$ \\\\\n",
       "\t16 & 16 & 1732-2178-1 & 2853142518421466112 & \\emph{missing} & \\emph{missing} & \\emph{missing} & \\emph{missing} & \\emph{missing} & $\\dots$ \\\\\n",
       "\t17 & 17 & 1732-2348-1 & 2853063452368030976 & \\emph{missing} & \\emph{missing} & \\emph{missing} & \\emph{missing} & \\emph{missing} & $\\dots$ \\\\\n",
       "\t18 & 18 & 4014-621-1 & 423337780857314560 & \\emph{missing} & \\emph{missing} & \\emph{missing} & \\emph{missing} & \\emph{missing} & $\\dots$ \\\\\n",
       "\t19 & 19 & 5844-227-1 & 2341335283213230464 & \\emph{missing} & \\emph{missing} & \\emph{missing} & \\emph{missing} & \\emph{missing} & $\\dots$ \\\\\n",
       "\t20 & 20 & 2789-1773-1 & 2882275590828656384 & \\emph{missing} & \\emph{missing} & \\emph{missing} & \\emph{missing} & \\emph{missing} & $\\dots$ \\\\\n",
       "\t21 & 21 & 5841-1155-1 & 2341871673090078592 & 2 & 2 & 224690 & \\emph{missing} & \\emph{missing} & $\\dots$ \\\\\n",
       "\t22 & 22 & 1178-1841-1 & 2772097619417608704 & \\emph{missing} & \\emph{missing} & \\emph{missing} & \\emph{missing} & \\emph{missing} & $\\dots$ \\\\\n",
       "\t23 & 23 & 4492-2249-1 & 539833619099078784 & \\emph{missing} & \\emph{missing} & \\emph{missing} & \\emph{missing} & \\emph{missing} & $\\dots$ \\\\\n",
       "\t24 & 24 & 4-943-1 & 2740438212888361600 & \\emph{missing} & \\emph{missing} & \\emph{missing} & \\emph{missing} & \\emph{missing} & $\\dots$ \\\\\n",
       "\t25 & 25 & 3664-1799-1 & 422737451812937088 & \\emph{missing} & \\emph{missing} & \\emph{missing} & \\emph{missing} & \\emph{missing} & $\\dots$ \\\\\n",
       "\t26 & 26 & 5841-220-1 & 2341863048795720832 & \\emph{missing} & \\emph{missing} & \\emph{missing} & \\emph{missing} & \\emph{missing} & $\\dots$ \\\\\n",
       "\t27 & 27 & 2781-1863-1 & 2881742980523997824 & 3 & 3 & 224699 & \\emph{missing} & \\emph{missing} & $\\dots$ \\\\\n",
       "\t28 & 28 & 597-1284-1 & 2765315831697419520 & \\emph{missing} & \\emph{missing} & \\emph{missing} & \\emph{missing} & \\emph{missing} & $\\dots$ \\\\\n",
       "\t29 & 29 & 2259-601-1 & 2873727467742269952 & \\emph{missing} & \\emph{missing} & \\emph{missing} & \\emph{missing} & \\emph{missing} & $\\dots$ \\\\\n",
       "\t30 & 30 & 3258-1258-1 & 394029203211513088 & \\emph{missing} & \\emph{missing} & \\emph{missing} & \\emph{missing} & \\emph{missing} & $\\dots$ \\\\\n",
       "\t$\\dots$ & $\\dots$ & $\\dots$ & $\\dots$ & $\\dots$ & $\\dots$ & $\\dots$ & $\\dots$ & $\\dots$ &  \\\\\n",
       "\\end{tabular}\n"
      ],
      "text/plain": [
       "\u001b[1m2552165×34 DataFrame\u001b[0m\n",
       "\u001b[1m     Row \u001b[0m│\u001b[1m id      \u001b[0m\u001b[1m tyc         \u001b[0m\u001b[1m gaia                \u001b[0m\u001b[1m hyg     \u001b[0m\u001b[1m hip     \u001b[0m\u001b[1m hd    \u001b[0m ⋯\n",
       "         │\u001b[90m Int64   \u001b[0m\u001b[90m String15?   \u001b[0m\u001b[90m Int64?              \u001b[0m\u001b[90m Int64?  \u001b[0m\u001b[90m Int64?  \u001b[0m\u001b[90m Int64?\u001b[0m ⋯\n",
       "─────────┼──────────────────────────────────────────────────────────────────────\n",
       "       1 │       1 \u001b[90m missing     \u001b[0m\u001b[90m             missing \u001b[0m       0 \u001b[90m missing \u001b[0m\u001b[90m missin\u001b[0m ⋯\n",
       "       2 │       2  4669-731-1   2443095153084654208 \u001b[90m missing \u001b[0m\u001b[90m missing \u001b[0m  22470\n",
       "       3 │       3  1-381-1     \u001b[90m             missing \u001b[0m       1        1   22470\n",
       "       4 │       4  3258-1994-1   395709634934560256 \u001b[90m missing \u001b[0m\u001b[90m missing \u001b[0m\u001b[90m missin\u001b[0m\n",
       "       5 │       5  5260-880-1   2422928220045464320 \u001b[90m missing \u001b[0m\u001b[90m missing \u001b[0m\u001b[90m missin\u001b[0m ⋯\n",
       "       6 │       6  6992-893-1   2312711078532837632 \u001b[90m missing \u001b[0m\u001b[90m missing \u001b[0m\u001b[90m missin\u001b[0m\n",
       "       7 │       7  3254-1981-1   393457319723284096 \u001b[90m missing \u001b[0m\u001b[90m missing \u001b[0m\u001b[90m missin\u001b[0m\n",
       "       8 │       8  8028-139-1   4976477592542752384 \u001b[90m missing \u001b[0m\u001b[90m missing \u001b[0m\u001b[90m missin\u001b[0m\n",
       "       9 │       9  1729-242-1   2848069474850082944 \u001b[90m missing \u001b[0m\u001b[90m missing \u001b[0m\u001b[90m missin\u001b[0m ⋯\n",
       "      10 │      10  2785-560-1   2882189824625718272 \u001b[90m missing \u001b[0m\u001b[90m missing \u001b[0m\u001b[90m missin\u001b[0m\n",
       "      11 │      11  1-251-1      2738611198223581312 \u001b[90m missing \u001b[0m\u001b[90m missing \u001b[0m\u001b[90m missin\u001b[0m\n",
       "    ⋮    │    ⋮          ⋮                ⋮              ⋮        ⋮        ⋮   ⋱\n",
       " 2552156 │ 2552156  4009-1581-1  1995018734263229056 \u001b[90m missing \u001b[0m\u001b[90m missing \u001b[0m\u001b[90m missin\u001b[0m\n",
       " 2552157 │ 2552157  2772-134-1   2873753516719351552 \u001b[90m missing \u001b[0m\u001b[90m missing \u001b[0m\u001b[90m missin\u001b[0m ⋯\n",
       " 2552158 │ 2552158  3639-2443-1  1926109797929788928 \u001b[90m missing \u001b[0m\u001b[90m missing \u001b[0m\u001b[90m missin\u001b[0m\n",
       " 2552159 │ 2552159  2255-787-1   2853592768433009536 \u001b[90m missing \u001b[0m\u001b[90m missing \u001b[0m\u001b[90m missin\u001b[0m\n",
       " 2552160 │ 2552160  5253-332-1   2449957651830140160 \u001b[90m missing \u001b[0m\u001b[90m missing \u001b[0m\u001b[90m missin\u001b[0m\n",
       " 2552161 │ 2552161  1722-672-1   2772098031734496512 \u001b[90m missing \u001b[0m\u001b[90m missing \u001b[0m\u001b[90m missin\u001b[0m ⋯\n",
       " 2552162 │ 2552162  6988-385-1   2333399485025767936 \u001b[90m missing \u001b[0m\u001b[90m missing \u001b[0m\u001b[90m missin\u001b[0m\n",
       " 2552163 │ 2552163  3241-1424-1  1921554594272345984 \u001b[90m missing \u001b[0m\u001b[90m missing \u001b[0m\u001b[90m missin\u001b[0m\n",
       " 2552164 │ 2552164  3660-1372-1  1994789971419995392 \u001b[90m missing \u001b[0m\u001b[90m missing \u001b[0m\u001b[90m missin\u001b[0m\n",
       " 2552165 │ 2552165  593-1533-1   2744972427042371712 \u001b[90m missing \u001b[0m\u001b[90m missing \u001b[0m\u001b[90m missin\u001b[0m ⋯\n",
       "\u001b[36m                                             29 columns and 2552144 rows omitted\u001b[0m"
      ]
     },
     "execution_count": 2,
     "metadata": {},
     "output_type": "execute_result"
    }
   ],
   "source": [
    "df = CSV.read(joinpath(\"data\", \"athyg_v24.csv\"), DataFrame)"
   ]
  },
  {
   "cell_type": "markdown",
   "id": "61ef6953-3a4f-46ed-91f8-12bcdf721c57",
   "metadata": {},
   "source": [
    "**c.** Kolik záznamů (hvězd) je v databázi?"
   ]
  },
  {
   "cell_type": "code",
   "execution_count": 3,
   "id": "bc2893dd-9591-4bd6-9301-a0368e045bd0",
   "metadata": {},
   "outputs": [
    {
     "data": {
      "text/plain": [
       "2552165"
      ]
     },
     "execution_count": 3,
     "metadata": {},
     "output_type": "execute_result"
    }
   ],
   "source": [
    "nrow(df)"
   ]
  },
  {
   "cell_type": "markdown",
   "id": "d18c04ce-acfd-4f02-b777-2d272d271999",
   "metadata": {},
   "source": [
    "V databázi je 2 552 165 záznamů."
   ]
  },
  {
   "cell_type": "markdown",
   "id": "ee402544-61a5-4b99-95ec-0f869990f652",
   "metadata": {},
   "source": [
    "## 4.2 Zajímavé hvězdy\n",
    "\n",
    "**a.** Která hvězda je nejbližší (vzdálenost je uložena ve sloupci `dist` v jednotkách [parsec](https://en.wikipedia.org/wiki/Parsec)). Vyhledejte pět nejbližších hvězd a uveďte jejich vzdálenost od Slunce ve [světelných letech](https://en.wikipedia.org/wiki/Light-year). Vypište i jejich jméno (sloupec `proper` v případě pojmenovaných hvězd) a vypište v jakém se nachází souhvězdí (sloupec `con`)."
   ]
  },
  {
   "cell_type": "code",
   "execution_count": 4,
   "id": "3f208f37-1777-4f5b-8844-561f64fba882",
   "metadata": {},
   "outputs": [
    {
     "data": {
      "text/plain": [
       "insert_max (generic function with 1 method)"
      ]
     },
     "execution_count": 4,
     "metadata": {},
     "output_type": "execute_result"
    }
   ],
   "source": [
    "function insert_min(row, row_arr, col, n)\n",
    "    if ismissing(row[col]) || row[col] == 0\n",
    "        return row_arr\n",
    "    end\n",
    "    \n",
    "    insert_index = findfirst(x -> !ismissing(x[col]) && row[col] < x[col], row_arr)\n",
    "    \n",
    "    if isnothing(insert_index)\n",
    "        push!(row_arr, row)\n",
    "    else\n",
    "        insert!(row_arr, insert_index, row)\n",
    "    end\n",
    "    if length(row_arr) > n\n",
    "        pop!(row_arr)\n",
    "    end\n",
    "    \n",
    "    return row_arr\n",
    "end\n",
    "\n",
    "function insert_max(row, row_arr, col, n)\n",
    "    if ismissing(row[col])\n",
    "        return row_arr\n",
    "    end\n",
    "    insert_index = findfirst(x -> !ismissing(x[col]) && row[col] > x[col], row_arr)\n",
    "    if isnothing(insert_index)\n",
    "        push!(row_arr, row)\n",
    "    else\n",
    "        insert!(row_arr, insert_index, row)\n",
    "    end\n",
    "    if length(row_arr) > n\n",
    "        pop!(row_arr)\n",
    "    end\n",
    "    \n",
    "    return row_arr\n",
    "end"
   ]
  },
  {
   "cell_type": "code",
   "execution_count": 5,
   "id": "73dbb03a-e01a-457d-811b-409fd0765d87",
   "metadata": {},
   "outputs": [],
   "source": [
    "min_dists = DataFrameRow[]\n",
    "max_dists = DataFrameRow[]\n",
    "max_mags = DataFrameRow[]\n",
    "for row in eachrow(df)\n",
    "    min_dists = insert_min(row, min_dists, :dist, 5)\n",
    "    max_dists = insert_max(row, max_dists, :dist, 5)\n",
    "    max_mags = insert_max(row, max_mags, :mag, 5)\n",
    "end"
   ]
  },
  {
   "cell_type": "code",
   "execution_count": 6,
   "id": "fa4d2aaf-753f-4315-b36d-dfba694bb147",
   "metadata": {},
   "outputs": [
    {
     "data": {
      "text/plain": [
       "print_arr (generic function with 1 method)"
      ]
     },
     "execution_count": 6,
     "metadata": {},
     "output_type": "execute_result"
    }
   ],
   "source": [
    "function print_arr(arr, cols)\n",
    "    for row_idx in 1:length(arr)\n",
    "        display(row_idx)\n",
    "        for col in cols\n",
    "            if col == :dist\n",
    "                display(arr[row_idx][col] * 3.26)\n",
    "            elseif col == :proper\n",
    "                if !ismissing(arr[row_idx][col])\n",
    "                    display(arr[row_idx][col])\n",
    "                end\n",
    "            else\n",
    "                display(arr[row_idx][col])\n",
    "            end\n",
    "        end\n",
    "    end\n",
    "end"
   ]
  },
  {
   "cell_type": "code",
   "execution_count": 7,
   "id": "f1cb5dea-cc55-458e-b415-09a68c24e2a4",
   "metadata": {},
   "outputs": [
    {
     "data": {
      "text/plain": [
       "1"
      ]
     },
     "metadata": {},
     "output_type": "display_data"
    },
    {
     "data": {
      "text/plain": [
       "4.24452"
      ]
     },
     "metadata": {},
     "output_type": "display_data"
    },
    {
     "data": {
      "text/plain": [
       "\"Proxima Centauri\""
      ]
     },
     "metadata": {},
     "output_type": "display_data"
    },
    {
     "data": {
      "text/plain": [
       "\"Cen\""
      ]
     },
     "metadata": {},
     "output_type": "display_data"
    },
    {
     "data": {
      "text/plain": [
       "2"
      ]
     },
     "metadata": {},
     "output_type": "display_data"
    },
    {
     "data": {
      "text/plain": [
       "4.318848"
      ]
     },
     "metadata": {},
     "output_type": "display_data"
    },
    {
     "data": {
      "text/plain": [
       "\"Toliman\""
      ]
     },
     "metadata": {},
     "output_type": "display_data"
    },
    {
     "data": {
      "text/plain": [
       "\"Cen\""
      ]
     },
     "metadata": {},
     "output_type": "display_data"
    },
    {
     "data": {
      "text/plain": [
       "3"
      ]
     },
     "metadata": {},
     "output_type": "display_data"
    },
    {
     "data": {
      "text/plain": [
       "4.318848"
      ]
     },
     "metadata": {},
     "output_type": "display_data"
    },
    {
     "data": {
      "text/plain": [
       "\"Rigil Kentaurus\""
      ]
     },
     "metadata": {},
     "output_type": "display_data"
    },
    {
     "data": {
      "text/plain": [
       "\"Cen\""
      ]
     },
     "metadata": {},
     "output_type": "display_data"
    },
    {
     "data": {
      "text/plain": [
       "4"
      ]
     },
     "metadata": {},
     "output_type": "display_data"
    },
    {
     "data": {
      "text/plain": [
       "5.959931999999999"
      ]
     },
     "metadata": {},
     "output_type": "display_data"
    },
    {
     "data": {
      "text/plain": [
       "\"Barnard's Star\""
      ]
     },
     "metadata": {},
     "output_type": "display_data"
    },
    {
     "data": {
      "text/plain": [
       "\"Oph\""
      ]
     },
     "metadata": {},
     "output_type": "display_data"
    },
    {
     "data": {
      "text/plain": [
       "5"
      ]
     },
     "metadata": {},
     "output_type": "display_data"
    },
    {
     "data": {
      "text/plain": [
       "7.852027340470167"
      ]
     },
     "metadata": {},
     "output_type": "display_data"
    },
    {
     "data": {
      "text/plain": [
       "\"Wolf 359\""
      ]
     },
     "metadata": {},
     "output_type": "display_data"
    },
    {
     "data": {
      "text/plain": [
       "\"Leo\""
      ]
     },
     "metadata": {},
     "output_type": "display_data"
    }
   ],
   "source": [
    "print_arr(min_dists, [:dist, :proper, :con])"
   ]
  },
  {
   "cell_type": "markdown",
   "id": "382dabf6-e039-4645-a002-6feae5bab9ba",
   "metadata": {},
   "source": [
    "**b.** Vypište vzdálenosti pěti nejvzdálenějších hvězd. Uveďte jejich vzdálenosti od slunce ve světelných letech a v jakých souhvězdích se nachází."
   ]
  },
  {
   "cell_type": "code",
   "execution_count": 8,
   "id": "21d2f95a-0889-4a39-a338-e2d92b47f867",
   "metadata": {},
   "outputs": [
    {
     "data": {
      "text/plain": [
       "1"
      ]
     },
     "metadata": {},
     "output_type": "display_data"
    },
    {
     "data": {
      "text/plain": [
       "446575.34256399993"
      ]
     },
     "metadata": {},
     "output_type": "display_data"
    },
    {
     "data": {
      "text/plain": [
       "\"Dor\""
      ]
     },
     "metadata": {},
     "output_type": "display_data"
    },
    {
     "data": {
      "text/plain": [
       "2"
      ]
     },
     "metadata": {},
     "output_type": "display_data"
    },
    {
     "data": {
      "text/plain": [
       "343157.894754"
      ]
     },
     "metadata": {},
     "output_type": "display_data"
    },
    {
     "data": {
      "text/plain": [
       "\"Aur\""
      ]
     },
     "metadata": {},
     "output_type": "display_data"
    },
    {
     "data": {
      "text/plain": [
       "3"
      ]
     },
     "metadata": {},
     "output_type": "display_data"
    },
    {
     "data": {
      "text/plain": [
       "285175.84706199996"
      ]
     },
     "metadata": {},
     "output_type": "display_data"
    },
    {
     "data": {
      "text/plain": [
       "\"Dor\""
      ]
     },
     "metadata": {},
     "output_type": "display_data"
    },
    {
     "data": {
      "text/plain": [
       "4"
      ]
     },
     "metadata": {},
     "output_type": "display_data"
    },
    {
     "data": {
      "text/plain": [
       "271621.21726799995"
      ]
     },
     "metadata": {},
     "output_type": "display_data"
    },
    {
     "data": {
      "text/plain": [
       "\"Dor\""
      ]
     },
     "metadata": {},
     "output_type": "display_data"
    },
    {
     "data": {
      "text/plain": [
       "5"
      ]
     },
     "metadata": {},
     "output_type": "display_data"
    },
    {
     "data": {
      "text/plain": [
       "268709.26856"
      ]
     },
     "metadata": {},
     "output_type": "display_data"
    },
    {
     "data": {
      "text/plain": [
       "\"Dor\""
      ]
     },
     "metadata": {},
     "output_type": "display_data"
    }
   ],
   "source": [
    "print_arr(max_dists, [:dist, :proper, :con])"
   ]
  },
  {
   "cell_type": "markdown",
   "id": "a89675b9-5cb5-4afd-8b7b-e7e80f551a9c",
   "metadata": {},
   "source": [
    "**c.** Nalezněte pět nejjasnějších hvězd dle jasnosti vnímané pozorovatelem na Zemi (tj. hvězdy s největší magnitudou, sloupec `mag`). Vypište opět jejich jména a souhvězdí, do kterých patří."
   ]
  },
  {
   "cell_type": "code",
   "execution_count": 9,
   "id": "1137c7e4-60ed-4769-a18d-5cfe0b5784ae",
   "metadata": {},
   "outputs": [
    {
     "data": {
      "text/plain": [
       "1"
      ]
     },
     "metadata": {},
     "output_type": "display_data"
    },
    {
     "data": {
      "text/plain": [
       "20.1"
      ]
     },
     "metadata": {},
     "output_type": "display_data"
    },
    {
     "data": {
      "text/plain": [
       "\"Her\""
      ]
     },
     "metadata": {},
     "output_type": "display_data"
    },
    {
     "data": {
      "text/plain": [
       "2"
      ]
     },
     "metadata": {},
     "output_type": "display_data"
    },
    {
     "data": {
      "text/plain": [
       "19.74"
      ]
     },
     "metadata": {},
     "output_type": "display_data"
    },
    {
     "data": {
      "text/plain": [
       "\"Boo\""
      ]
     },
     "metadata": {},
     "output_type": "display_data"
    },
    {
     "data": {
      "text/plain": [
       "3"
      ]
     },
     "metadata": {},
     "output_type": "display_data"
    },
    {
     "data": {
      "text/plain": [
       "19.57"
      ]
     },
     "metadata": {},
     "output_type": "display_data"
    },
    {
     "data": {
      "text/plain": [
       "\"Crt\""
      ]
     },
     "metadata": {},
     "output_type": "display_data"
    },
    {
     "data": {
      "text/plain": [
       "4"
      ]
     },
     "metadata": {},
     "output_type": "display_data"
    },
    {
     "data": {
      "text/plain": [
       "19.11"
      ]
     },
     "metadata": {},
     "output_type": "display_data"
    },
    {
     "data": {
      "text/plain": [
       "\"Sex\""
      ]
     },
     "metadata": {},
     "output_type": "display_data"
    },
    {
     "data": {
      "text/plain": [
       "5"
      ]
     },
     "metadata": {},
     "output_type": "display_data"
    },
    {
     "data": {
      "text/plain": [
       "18.8"
      ]
     },
     "metadata": {},
     "output_type": "display_data"
    },
    {
     "data": {
      "text/plain": [
       "\"Hya\""
      ]
     },
     "metadata": {},
     "output_type": "display_data"
    }
   ],
   "source": [
    "print_arr(max_mags, [:mag, :proper, :con])"
   ]
  },
  {
   "cell_type": "markdown",
   "id": "a17f8830-930e-4f20-beb4-05719cfe9168",
   "metadata": {},
   "source": [
    "## 4.3 Nejjasnější souhvězdí\n",
    "\n",
    "**a.** Kolik souhvězdí (sloupec `col`) je v databázi celkem uvedeno?"
   ]
  },
  {
   "cell_type": "code",
   "execution_count": 10,
   "id": "84a1862a-54c5-4919-b7e1-908da64b5e8b",
   "metadata": {},
   "outputs": [
    {
     "data": {
      "text/plain": [
       "91"
      ]
     },
     "execution_count": 10,
     "metadata": {},
     "output_type": "execute_result"
    }
   ],
   "source": [
    "length(unique(df[!, :con]))"
   ]
  },
  {
   "cell_type": "markdown",
   "id": "c96d0318-7f6d-4106-a26f-7c375a58df8d",
   "metadata": {},
   "source": [
    "**b.** Nalezněte pět souhvězdí, která jsou nejjasnější (při pohledu ze Slunce) podle následujícího kritéria: pro každé souhvězdí spočteme \"naší jasnost\", která je dána _mediánem_ jasností _deseti_ nejjasnějších hvězd daného souhvězdí (magnituda, `mag`)."
   ]
  },
  {
   "cell_type": "code",
   "execution_count": 11,
   "id": "7c9218b2-3124-480b-b673-19d8d87531c9",
   "metadata": {},
   "outputs": [
    {
     "data": {
      "text/plain": [
       "insert_bright (generic function with 1 method)"
      ]
     },
     "execution_count": 11,
     "metadata": {},
     "output_type": "execute_result"
    }
   ],
   "source": [
    "function insert_bright(value, arr, n)\n",
    "    insert_index = findfirst(x -> !ismissing(x) && value > x, arr)\n",
    "    if isnothing(insert_index)\n",
    "        push!(arr, value)\n",
    "    else\n",
    "        insert!(arr, insert_index, value)\n",
    "    end\n",
    "    if length(arr) > n\n",
    "        pop!(arr)\n",
    "    end\n",
    "    return arr\n",
    "end"
   ]
  },
  {
   "cell_type": "code",
   "execution_count": 12,
   "id": "171a6d0e-1bd5-413d-9bcb-a13e861d4f03",
   "metadata": {},
   "outputs": [
    {
     "data": {
      "text/plain": [
       "get_constellations (generic function with 1 method)"
      ]
     },
     "execution_count": 12,
     "metadata": {},
     "output_type": "execute_result"
    }
   ],
   "source": [
    "function get_constellations(df)\n",
    "    constellation_dict = Dict{String, Array{Float64}}()\n",
    "    for row in eachrow(df)\n",
    "        if ismissing(row[:con]) || ismissing(row[:mag])\n",
    "            continue\n",
    "        end\n",
    "        con = row[:con]\n",
    "        mag = row[:mag]\n",
    "        if con in keys(constellation_dict)\n",
    "            constellation_dict[con] = insert_bright(mag, constellation_dict[con], 10)\n",
    "        else\n",
    "            constellation_dict[con] = [mag]\n",
    "        end \n",
    "    end\n",
    "    return constellation_dict\n",
    "end"
   ]
  },
  {
   "cell_type": "code",
   "execution_count": 13,
   "id": "235c8290-6b31-4225-8840-da9d2e7583bc",
   "metadata": {},
   "outputs": [
    {
     "data": {
      "text/plain": [
       "Dict{String, Array{Float64}} with 90 entries:\n",
       "  \"Scl\" => [15.42, 14.95, 14.9, 14.336, 14.31, 14.2, 13.98, 13.861, 13.85, 13.7…\n",
       "  \"Cnc\" => [17.68, 15.72, 15.56, 15.18, 14.81, 14.75, 14.299, 14.24, 14.06, 13.…\n",
       "  \"Cep\" => [15.87, 14.77, 14.68, 14.68, 14.337, 13.872, 13.744, 13.712, 13.662,…\n",
       "  \"Cru\" => [13.924, 13.908, 13.878, 13.872, 13.817, 13.805, 13.72, 13.606, 13.6…\n",
       "  \"Lup\" => [14.512, 14.08, 13.938, 13.932, 13.882, 13.842, 13.765, 13.742, 13.7…\n",
       "  \"Ori\" => [16.37, 15.89, 15.28, 14.55, 14.54, 14.45, 14.19, 14.1, 13.871, 13.7…\n",
       "  \"Aps\" => [13.75, 13.569, 13.516, 13.483, 13.465, 13.432, 13.408, 13.404, 13.3…\n",
       "  \"Aql\" => [16.87, 15.21, 14.147, 14.012, 13.821, 13.74, 13.7, 13.699, 13.676, …\n",
       "  \"Tuc\" => [14.08, 13.813, 13.802, 13.714, 13.561, 13.559, 13.52, 13.494, 13.48…\n",
       "  \"Vir\" => [17.89, 16.0, 15.79, 14.65, 14.6, 14.34, 14.3, 14.25, 14.167, 14.061]\n",
       "  \"Ret\" => [13.336, 13.311, 13.257, 13.2, 13.174, 13.151, 13.138, 13.135, 13.11…\n",
       "  \"Sex\" => [19.11, 16.41, 15.6, 13.973, 13.869, 13.859, 13.841, 13.83, 13.603, …\n",
       "  \"Equ\" => [16.17, 13.64, 13.575, 13.499, 13.435, 13.418, 13.359, 13.312, 13.27…\n",
       "  \"Mon\" => [15.68, 15.27, 14.809, 14.672, 14.22, 13.984, 13.977, 13.934, 13.907…\n",
       "  \"Pic\" => [13.632, 13.569, 13.536, 13.452, 13.422, 13.405, 13.355, 13.355, 13.…\n",
       "  \"Oph\" => [15.51, 15.19, 15.1, 14.67, 14.21, 14.01, 13.99, 13.841, 13.821, 13.…\n",
       "  \"Tel\" => [14.022, 13.927, 13.573, 13.538, 13.484, 13.481, 13.477, 13.389, 13.…\n",
       "  \"Vel\" => [15.1, 14.589, 14.143, 14.133, 14.079, 14.055, 14.054, 13.977, 13.97…\n",
       "  \"Crv\" => [14.799, 13.748, 13.682, 13.55, 13.309, 13.269, 13.259, 13.191, 13.1…\n",
       "  \"Sco\" => [14.7, 14.2, 14.043, 13.952, 13.905, 13.901, 13.861, 13.847, 13.747,…\n",
       "  \"Per\" => [17.29, 15.33, 15.32, 15.27, 14.7, 14.08, 14.017, 13.944, 13.94, 13.…\n",
       "  \"Sir\" => [6.84]\n",
       "  \"Sgr\" => [14.85, 14.5, 14.072, 14.071, 14.003, 13.893, 13.852, 13.85, 13.845,…\n",
       "  \"Vol\" => [14.5, 14.08, 13.92, 13.781, 13.663, 13.42, 13.333, 13.325, 13.299, …\n",
       "  \"Aqr\" => [17.14, 15.98, 15.65, 15.5, 15.42, 14.83, 14.651, 14.64, 14.41, 14.2…\n",
       "  ⋮     => ⋮"
      ]
     },
     "execution_count": 13,
     "metadata": {},
     "output_type": "execute_result"
    }
   ],
   "source": [
    "constellations = get_constellations(df)"
   ]
  },
  {
   "cell_type": "code",
   "execution_count": 14,
   "id": "5c11b703-33be-41ff-8d1f-8186a82b59b9",
   "metadata": {},
   "outputs": [
    {
     "data": {
      "text/plain": [
       "get_brightest_constellations (generic function with 1 method)"
      ]
     },
     "execution_count": 14,
     "metadata": {},
     "output_type": "execute_result"
    }
   ],
   "source": [
    "function insert_const(value, arr, n)\n",
    "    insert_index = findfirst(x -> !ismissing(x[2]) && value[2] > x[2], arr)\n",
    "    if isnothing(insert_index)\n",
    "        push!(arr, value)\n",
    "    else\n",
    "        insert!(arr, insert_index, value)\n",
    "    end\n",
    "    if length(arr) > n\n",
    "        pop!(arr)\n",
    "    end\n",
    "    return arr\n",
    "end\n",
    "    \n",
    "function get_brightest_constellations(consts)\n",
    "    brightest = Vector{Tuple{String, Float64}}()\n",
    "    for con in keys(consts)\n",
    "        brightness = median(consts[con])\n",
    "        brightest = insert_const((con, brightness), brightest, 5)\n",
    "    end\n",
    "    return brightest\n",
    "end    "
   ]
  },
  {
   "cell_type": "code",
   "execution_count": 15,
   "id": "8ade6aab-6c4a-458a-ad47-76aeb31135fb",
   "metadata": {},
   "outputs": [
    {
     "data": {
      "text/plain": [
       "5-element Vector{Tuple{String, Float64}}:\n",
       " (\"Cam\", 15.92)\n",
       " (\"Tau\", 15.82)\n",
       " (\"Dra\", 15.59)\n",
       " (\"Cet\", 15.504999999999999)\n",
       " (\"UMa\", 15.3)"
      ]
     },
     "execution_count": 15,
     "metadata": {},
     "output_type": "execute_result"
    }
   ],
   "source": [
    "brightest = get_brightest_constellations(constellations)"
   ]
  },
  {
   "cell_type": "markdown",
   "id": "4c366ad3-1196-4e69-8c1d-2019c59bae87",
   "metadata": {},
   "source": [
    "## 4.4 Hertzsprungův–Russelllův diagram\n",
    "\n",
    "**a.** K hvězdám, které mají uvedenou spektrální klasifikaci (sloupec `spect`, hodnota není `missing`) přídejte do nového sloupce `temp` jejich přibližnou povrchovou teplotu napočtenou podle Ballesterosova vzorce\n",
    "\n",
    "$$ T(\\mathrm{ci}) = 4600 \\, K \\left( \\frac{1}{0.92\\mathrm{ci} + 1.7} + \\frac{1}{0.92\\mathrm{ci} + 0.62} \\right), $$\n",
    "\n",
    "kde $\\mathrm{ci}$ je [barevný index hvězdy](https://en.wikipedia.org/wiki/Color_index) uvedený ve sloupci `ci`."
   ]
  },
  {
   "cell_type": "code",
   "execution_count": 16,
   "id": "0c99718f-d7e5-457f-b75e-17a689918769",
   "metadata": {},
   "outputs": [
    {
     "data": {
      "text/plain": [
       "calculate_temp (generic function with 1 method)"
      ]
     },
     "execution_count": 16,
     "metadata": {},
     "output_type": "execute_result"
    }
   ],
   "source": [
    "function calculate_temp(ci::Float64)\n",
    "    value = 4600 * (1/(0.92 * ci + 1.7) + 1/(0.92 * ci + 0.62))\n",
    "    return value\n",
    "end"
   ]
  },
  {
   "cell_type": "code",
   "execution_count": 27,
   "id": "b9eb0911-c5f7-4efd-99a3-edbc2db0cc0a",
   "metadata": {},
   "outputs": [],
   "source": [
    "temp_values = Vector{Union{Float64, Missing}}()\n",
    "for row in eachrow(df)\n",
    "    if ismissing(row[:spect]) || ismissing(row[:ci])\n",
    "        push!(temp_values, missing)\n",
    "    else\n",
    "        push!(temp_values, calculate_temp(row[:ci]))\n",
    "    end\n",
    "end\n",
    "df[!, :temp] = temp_values;"
   ]
  },
  {
   "cell_type": "code",
   "execution_count": 32,
   "id": "86401c01-4540-47db-a4d2-bddbc7f2eb53",
   "metadata": {},
   "outputs": [
    {
     "data": {
      "text/html": [
       "<div><div style = \"float: left;\"><span>5×35 DataFrame</span></div><div style = \"clear: both;\"></div></div><div class = \"data-frame\" style = \"overflow-x: scroll;\"><table class = \"data-frame\" style = \"margin-bottom: 6px;\"><thead><tr class = \"header\"><th class = \"rowNumber\" style = \"font-weight: bold; text-align: right;\">Row</th><th style = \"text-align: left;\">id</th><th style = \"text-align: left;\">tyc</th><th style = \"text-align: left;\">gaia</th><th style = \"text-align: left;\">hyg</th><th style = \"text-align: left;\">hip</th><th style = \"text-align: left;\">hd</th><th style = \"text-align: left;\">hr</th><th style = \"text-align: left;\">gl</th><th style = \"text-align: left;\">bayer</th><th style = \"text-align: left;\">flam</th><th style = \"text-align: left;\">con</th><th style = \"text-align: left;\">proper</th><th style = \"text-align: left;\">ra</th><th style = \"text-align: left;\">dec</th><th style = \"text-align: left;\">pos_src</th><th style = \"text-align: left;\">dist</th><th style = \"text-align: left;\">x0</th><th style = \"text-align: left;\">y0</th><th style = \"text-align: left;\">z0</th><th style = \"text-align: left;\">dist_src</th><th style = \"text-align: left;\">mag</th><th style = \"text-align: left;\">absmag</th><th style = \"text-align: left;\">ci</th><th style = \"text-align: left;\">mag_src</th><th style = \"text-align: left;\">rv</th><th style = \"text-align: left;\">rv_src</th><th style = \"text-align: left;\">pm_ra</th><th style = \"text-align: left;\">pm_dec</th><th style = \"text-align: left;\">pm_src</th><th style = \"text-align: left;\">vx</th><th style = \"text-align: left;\">vy</th><th style = \"text-align: left;\">vz</th><th style = \"text-align: left;\">spect</th><th style = \"text-align: left;\">spect_src</th><th style = \"text-align: left;\">temp</th></tr><tr class = \"subheader headerLastRow\"><th class = \"rowNumber\" style = \"font-weight: bold; text-align: right;\"></th><th title = \"Int64\" style = \"text-align: left;\">Int64</th><th title = \"Union{Missing, String15}\" style = \"text-align: left;\">String15?</th><th title = \"Union{Missing, Int64}\" style = \"text-align: left;\">Int64?</th><th title = \"Union{Missing, Int64}\" style = \"text-align: left;\">Int64?</th><th title = \"Union{Missing, Int64}\" style = \"text-align: left;\">Int64?</th><th title = \"Union{Missing, Int64}\" style = \"text-align: left;\">Int64?</th><th title = \"Union{Missing, Int64}\" style = \"text-align: left;\">Int64?</th><th title = \"Union{Missing, String15}\" style = \"text-align: left;\">String15?</th><th title = \"Union{Missing, String7}\" style = \"text-align: left;\">String7?</th><th title = \"Union{Missing, Int64}\" style = \"text-align: left;\">Int64?</th><th title = \"Union{Missing, String3}\" style = \"text-align: left;\">String3?</th><th title = \"Union{Missing, String31}\" style = \"text-align: left;\">String31?</th><th title = \"Float64\" style = \"text-align: left;\">Float64</th><th title = \"Float64\" style = \"text-align: left;\">Float64</th><th title = \"String7\" style = \"text-align: left;\">String7</th><th title = \"Union{Missing, Float64}\" style = \"text-align: left;\">Float64?</th><th title = \"Union{Missing, Float64}\" style = \"text-align: left;\">Float64?</th><th title = \"Union{Missing, Float64}\" style = \"text-align: left;\">Float64?</th><th title = \"Union{Missing, Float64}\" style = \"text-align: left;\">Float64?</th><th title = \"String7\" style = \"text-align: left;\">String7</th><th title = \"Float64\" style = \"text-align: left;\">Float64</th><th title = \"Union{Missing, Float64}\" style = \"text-align: left;\">Float64?</th><th title = \"Union{Missing, Float64}\" style = \"text-align: left;\">Float64?</th><th title = \"String7\" style = \"text-align: left;\">String7</th><th title = \"Union{Missing, Float64}\" style = \"text-align: left;\">Float64?</th><th title = \"String7\" style = \"text-align: left;\">String7</th><th title = \"Union{Missing, Float64}\" style = \"text-align: left;\">Float64?</th><th title = \"Union{Missing, Float64}\" style = \"text-align: left;\">Float64?</th><th title = \"String7\" style = \"text-align: left;\">String7</th><th title = \"Union{Missing, Float64}\" style = \"text-align: left;\">Float64?</th><th title = \"Union{Missing, Float64}\" style = \"text-align: left;\">Float64?</th><th title = \"Union{Missing, Float64}\" style = \"text-align: left;\">Float64?</th><th title = \"Union{Missing, String31}\" style = \"text-align: left;\">String31?</th><th title = \"Union{Missing, String7}\" style = \"text-align: left;\">String7?</th><th title = \"Union{Missing, Float64}\" style = \"text-align: left;\">Float64?</th></tr></thead><tbody><tr><td class = \"rowNumber\" style = \"font-weight: bold; text-align: right;\">1</td><td style = \"text-align: right;\">1</td><td style = \"font-style: italic; text-align: left;\">missing</td><td style = \"font-style: italic; text-align: right;\">missing</td><td style = \"text-align: right;\">0</td><td style = \"font-style: italic; text-align: right;\">missing</td><td style = \"font-style: italic; text-align: right;\">missing</td><td style = \"font-style: italic; text-align: right;\">missing</td><td style = \"font-style: italic; text-align: left;\">missing</td><td style = \"font-style: italic; text-align: left;\">missing</td><td style = \"font-style: italic; text-align: right;\">missing</td><td style = \"font-style: italic; text-align: left;\">missing</td><td style = \"text-align: left;\">Sol</td><td style = \"text-align: right;\">0.0</td><td style = \"text-align: right;\">0.0</td><td style = \"text-align: left;\">OTHER</td><td style = \"text-align: right;\">0.0</td><td style = \"text-align: right;\">5.0e-6</td><td style = \"text-align: right;\">0.0</td><td style = \"text-align: right;\">0.0</td><td style = \"text-align: left;\">OTHER</td><td style = \"text-align: right;\">-26.7</td><td style = \"text-align: right;\">4.85</td><td style = \"text-align: right;\">0.656</td><td style = \"text-align: left;\">OTHER</td><td style = \"font-style: italic; text-align: right;\">missing</td><td style = \"text-align: left;\">OTHER</td><td style = \"font-style: italic; text-align: right;\">missing</td><td style = \"font-style: italic; text-align: right;\">missing</td><td style = \"text-align: left;\">OTHER</td><td style = \"font-style: italic; text-align: right;\">missing</td><td style = \"font-style: italic; text-align: right;\">missing</td><td style = \"font-style: italic; text-align: right;\">missing</td><td style = \"text-align: left;\">G2 V</td><td style = \"text-align: left;\">OTHER</td><td style = \"text-align: right;\">5756.59</td></tr><tr><td class = \"rowNumber\" style = \"font-weight: bold; text-align: right;\">2</td><td style = \"text-align: right;\">2</td><td style = \"text-align: left;\">4669-731-1</td><td style = \"text-align: right;\">2443095153084654208</td><td style = \"font-style: italic; text-align: right;\">missing</td><td style = \"font-style: italic; text-align: right;\">missing</td><td style = \"text-align: right;\">224701</td><td style = \"font-style: italic; text-align: right;\">missing</td><td style = \"font-style: italic; text-align: left;\">missing</td><td style = \"font-style: italic; text-align: left;\">missing</td><td style = \"font-style: italic; text-align: right;\">missing</td><td style = \"text-align: left;\">Psc</td><td style = \"font-style: italic; text-align: left;\">missing</td><td style = \"text-align: right;\">2.263e-5</td><td style = \"text-align: right;\">-5.49436</td><td style = \"text-align: left;\">T</td><td style = \"text-align: right;\">509.196</td><td style = \"text-align: right;\">506.856</td><td style = \"text-align: right;\">0.003</td><td style = \"text-align: right;\">-48.754</td><td style = \"text-align: left;\">G_R3</td><td style = \"text-align: right;\">9.239</td><td style = \"text-align: right;\">0.705</td><td style = \"text-align: right;\">1.117</td><td style = \"text-align: left;\">T</td><td style = \"text-align: right;\">-17.371</td><td style = \"text-align: left;\">G_R3</td><td style = \"text-align: right;\">22.498</td><td style = \"text-align: right;\">-11.301</td><td style = \"text-align: left;\">G_R3</td><td style = \"text-align: right;\">-19.904</td><td style = \"text-align: right;\">54.306</td><td style = \"text-align: right;\">-25.49</td><td style = \"text-align: left;\">G8 IV</td><td style = \"text-align: left;\">T</td><td style = \"text-align: right;\">4478.31</td></tr><tr><td class = \"rowNumber\" style = \"font-weight: bold; text-align: right;\">3</td><td style = \"text-align: right;\">3</td><td style = \"text-align: left;\">1-381-1</td><td style = \"font-style: italic; text-align: right;\">missing</td><td style = \"text-align: right;\">1</td><td style = \"text-align: right;\">1</td><td style = \"text-align: right;\">224700</td><td style = \"font-style: italic; text-align: right;\">missing</td><td style = \"font-style: italic; text-align: left;\">missing</td><td style = \"font-style: italic; text-align: left;\">missing</td><td style = \"font-style: italic; text-align: right;\">missing</td><td style = \"text-align: left;\">Psc</td><td style = \"font-style: italic; text-align: left;\">missing</td><td style = \"text-align: right;\">5.974e-5</td><td style = \"text-align: right;\">1.08901</td><td style = \"text-align: left;\">T</td><td style = \"text-align: right;\">219.78</td><td style = \"text-align: right;\">219.741</td><td style = \"text-align: right;\">0.003</td><td style = \"text-align: right;\">4.177</td><td style = \"text-align: left;\">HIP</td><td style = \"text-align: right;\">9.1</td><td style = \"text-align: right;\">2.39</td><td style = \"text-align: right;\">0.482</td><td style = \"text-align: left;\">HIP</td><td style = \"font-style: italic; text-align: right;\">missing</td><td style = \"text-align: left;\">N</td><td style = \"text-align: right;\">-5.2</td><td style = \"text-align: right;\">-1.88</td><td style = \"text-align: left;\">HYG</td><td style = \"text-align: right;\">0.037</td><td style = \"text-align: right;\">-5.418</td><td style = \"text-align: right;\">-1.958</td><td style = \"text-align: left;\">F3 V</td><td style = \"text-align: left;\">T</td><td style = \"text-align: right;\">6471.67</td></tr><tr><td class = \"rowNumber\" style = \"font-weight: bold; text-align: right;\">4</td><td style = \"text-align: right;\">4</td><td style = \"text-align: left;\">3258-1994-1</td><td style = \"text-align: right;\">395709634934560256</td><td style = \"font-style: italic; text-align: right;\">missing</td><td style = \"font-style: italic; text-align: right;\">missing</td><td style = \"font-style: italic; text-align: right;\">missing</td><td style = \"font-style: italic; text-align: right;\">missing</td><td style = \"font-style: italic; text-align: left;\">missing</td><td style = \"font-style: italic; text-align: left;\">missing</td><td style = \"font-style: italic; text-align: right;\">missing</td><td style = \"text-align: left;\">Cas</td><td style = \"font-style: italic; text-align: left;\">missing</td><td style = \"text-align: right;\">6.663e-5</td><td style = \"text-align: right;\">52.1778</td><td style = \"text-align: left;\">T</td><td style = \"text-align: right;\">696.999</td><td style = \"text-align: right;\">427.409</td><td style = \"text-align: right;\">0.007</td><td style = \"text-align: right;\">550.572</td><td style = \"text-align: left;\">G_R3</td><td style = \"text-align: right;\">11.816</td><td style = \"text-align: right;\">2.6</td><td style = \"text-align: right;\">1.228</td><td style = \"text-align: left;\">T</td><td style = \"text-align: right;\">-27.782</td><td style = \"text-align: left;\">G_R3</td><td style = \"text-align: right;\">14.421</td><td style = \"text-align: right;\">1.836</td><td style = \"text-align: left;\">G_R3</td><td style = \"text-align: right;\">-21.83</td><td style = \"text-align: right;\">47.647</td><td style = \"text-align: right;\">-18.225</td><td style = \"font-style: italic; text-align: left;\">missing</td><td style = \"text-align: left;\">N</td><td style = \"font-style: italic; text-align: right;\">missing</td></tr><tr><td class = \"rowNumber\" style = \"font-weight: bold; text-align: right;\">5</td><td style = \"text-align: right;\">5</td><td style = \"text-align: left;\">5260-880-1</td><td style = \"text-align: right;\">2422928220045464320</td><td style = \"font-style: italic; text-align: right;\">missing</td><td style = \"font-style: italic; text-align: right;\">missing</td><td style = \"font-style: italic; text-align: right;\">missing</td><td style = \"font-style: italic; text-align: right;\">missing</td><td style = \"font-style: italic; text-align: left;\">missing</td><td style = \"font-style: italic; text-align: left;\">missing</td><td style = \"font-style: italic; text-align: right;\">missing</td><td style = \"text-align: left;\">Cet</td><td style = \"font-style: italic; text-align: left;\">missing</td><td style = \"text-align: right;\">7.408e-5</td><td style = \"text-align: right;\">-9.85649</td><td style = \"text-align: left;\">T</td><td style = \"text-align: right;\">501.797</td><td style = \"text-align: right;\">494.39</td><td style = \"text-align: right;\">0.01</td><td style = \"text-align: right;\">-85.898</td><td style = \"text-align: left;\">G_R3</td><td style = \"text-align: right;\">12.213</td><td style = \"text-align: right;\">3.71</td><td style = \"text-align: right;\">1.224</td><td style = \"text-align: left;\">T</td><td style = \"text-align: right;\">-44.539</td><td style = \"text-align: left;\">G_R3</td><td style = \"text-align: right;\">-10.292</td><td style = \"text-align: right;\">-17.136</td><td style = \"text-align: left;\">G_R3</td><td style = \"text-align: right;\">-50.859</td><td style = \"text-align: right;\">-24.482</td><td style = \"text-align: right;\">-32.536</td><td style = \"font-style: italic; text-align: left;\">missing</td><td style = \"text-align: left;\">N</td><td style = \"font-style: italic; text-align: right;\">missing</td></tr></tbody></table></div>"
      ],
      "text/latex": [
       "\\begin{tabular}{r|ccccccccc}\n",
       "\t& id & tyc & gaia & hyg & hip & hd & hr & gl & \\\\\n",
       "\t\\hline\n",
       "\t& Int64 & String15? & Int64? & Int64? & Int64? & Int64? & Int64? & String15? & \\\\\n",
       "\t\\hline\n",
       "\t1 & 1 & \\emph{missing} & \\emph{missing} & 0 & \\emph{missing} & \\emph{missing} & \\emph{missing} & \\emph{missing} & $\\dots$ \\\\\n",
       "\t2 & 2 & 4669-731-1 & 2443095153084654208 & \\emph{missing} & \\emph{missing} & 224701 & \\emph{missing} & \\emph{missing} & $\\dots$ \\\\\n",
       "\t3 & 3 & 1-381-1 & \\emph{missing} & 1 & 1 & 224700 & \\emph{missing} & \\emph{missing} & $\\dots$ \\\\\n",
       "\t4 & 4 & 3258-1994-1 & 395709634934560256 & \\emph{missing} & \\emph{missing} & \\emph{missing} & \\emph{missing} & \\emph{missing} & $\\dots$ \\\\\n",
       "\t5 & 5 & 5260-880-1 & 2422928220045464320 & \\emph{missing} & \\emph{missing} & \\emph{missing} & \\emph{missing} & \\emph{missing} & $\\dots$ \\\\\n",
       "\\end{tabular}\n"
      ],
      "text/plain": [
       "\u001b[1m5×35 DataFrame\u001b[0m\n",
       "\u001b[1m Row \u001b[0m│\u001b[1m id    \u001b[0m\u001b[1m tyc         \u001b[0m\u001b[1m gaia                \u001b[0m\u001b[1m hyg     \u001b[0m\u001b[1m hip     \u001b[0m\u001b[1m hd      \u001b[0m\u001b[1m hr \u001b[0m ⋯\n",
       "     │\u001b[90m Int64 \u001b[0m\u001b[90m String15?   \u001b[0m\u001b[90m Int64?              \u001b[0m\u001b[90m Int64?  \u001b[0m\u001b[90m Int64?  \u001b[0m\u001b[90m Int64?  \u001b[0m\u001b[90m Int\u001b[0m ⋯\n",
       "─────┼──────────────────────────────────────────────────────────────────────────\n",
       "   1 │     1 \u001b[90m missing     \u001b[0m\u001b[90m             missing \u001b[0m       0 \u001b[90m missing \u001b[0m\u001b[90m missing \u001b[0m\u001b[90m mis\u001b[0m ⋯\n",
       "   2 │     2  4669-731-1   2443095153084654208 \u001b[90m missing \u001b[0m\u001b[90m missing \u001b[0m  224701 \u001b[90m mis\u001b[0m\n",
       "   3 │     3  1-381-1     \u001b[90m             missing \u001b[0m       1        1   224700 \u001b[90m mis\u001b[0m\n",
       "   4 │     4  3258-1994-1   395709634934560256 \u001b[90m missing \u001b[0m\u001b[90m missing \u001b[0m\u001b[90m missing \u001b[0m\u001b[90m mis\u001b[0m\n",
       "   5 │     5  5260-880-1   2422928220045464320 \u001b[90m missing \u001b[0m\u001b[90m missing \u001b[0m\u001b[90m missing \u001b[0m\u001b[90m mis\u001b[0m ⋯\n",
       "\u001b[36m                                                              29 columns omitted\u001b[0m"
      ]
     },
     "execution_count": 32,
     "metadata": {},
     "output_type": "execute_result"
    }
   ],
   "source": [
    "first(df, 5)"
   ]
  },
  {
   "cell_type": "markdown",
   "id": "433007e2-28b4-42ae-9804-e534856c893b",
   "metadata": {},
   "source": [
    "**b.** Pokuste se nakreslit [Hertzprungův-Russelův diagram](https://en.wikipedia.org/wiki/Hertzsprung%E2%80%93Russell_diagram) pro hvězdy, které mají uvedenou spektrální klasifikaci (sloupec `spect`) a jejichž povrchová teplota napočtená v předchozím bodě je mezi $0\\,K$ a $25\\,000\\,K$.\n",
    "\n",
    "Tento diagram má na vodorovné ose teplotu hvězdy (náš nový sloupec `temp`) a na svislé je absolutní magnitudu (sloupec `absmag`). Každá hvězda v tomto diagramu odpovídá jednomu bodu.\n",
    "\n",
    "**Poznámka**: Jako ideální nástroj se nabízí si _scatter plot_ nebo _2D histogram_. Obrázek nutně nebude vypadat tak pěkně, jako na wikipedii, ale je dobré vykreslovač potrápit (například vhodně zvolit velikost bodu, nebo přihrádky v histogramu, případně upravit rozsah osa asoustředit se tak na zajímavou oblast)."
   ]
  },
  {
   "cell_type": "code",
   "execution_count": 43,
   "id": "778034f7-7c1e-478d-9fa6-ca3974445a93",
   "metadata": {},
   "outputs": [],
   "source": [
    "temperatures = Vector{Union{Float64, Missing}}()\n",
    "absmags = Vector{Union{Float64, Missing}}()\n",
    "for row in eachrow(df)\n",
    "    if !ismissing(row[:temp]) && !ismissing(row[:absmag]) && row[:temp] > 0 && row[:temp] < 25_000\n",
    "        push!(temperatures, row[:temp])\n",
    "        push!(absmags, row[:absmag])\n",
    "    end\n",
    "end"
   ]
  },
  {
   "cell_type": "code",
   "execution_count": 52,
   "id": "2105af7e-f9a0-4c99-ba56-85e42be15552",
   "metadata": {},
   "outputs": [
    {
     "data": {
      "image/png": "[encoded data removed]",
      "text/plain": [
       "Figure(PyObject <Figure size 640x480 with 1 Axes>)"
      ]
     },
     "metadata": {},
     "output_type": "display_data"
    }
   ],
   "source": [
    "PyPlot.scatter(temperatures, absmags)\n",
    "PyPlot.xlabel(\"Temperature / K\")\n",
    "PyPlot.ylabel(\"Absolute Magnitude\");"
   ]
  },
  {
   "cell_type": "code",
   "execution_count": null,
   "id": "132360fb-eb98-44fa-bae3-ecdd0101a975",
   "metadata": {},
   "outputs": [],
   "source": []
  }
 ],
 "metadata": {
  "kernelspec": {
   "display_name": "Julia 1.9.3",
   "language": "julia",
   "name": "julia-1.9"
  },
  "language_info": {
   "file_extension": ".jl",
   "mimetype": "application/julia",
   "name": "julia",
   "version": "1.9.3"
  }
 },
 "nbformat": 4,
 "nbformat_minor": 5
}
